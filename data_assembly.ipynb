{
  "cells": [
    {
      "cell_type": "markdown",
      "metadata": {
        "colab_type": "text",
        "id": "view-in-github"
      },
      "source": [
        "<a href=\"https://colab.research.google.com/github/Blistt/bp-recommender/blob/Romasa/BP_Recommendation_system.ipynb\" target=\"_parent\"><img src=\"https://colab.research.google.com/assets/colab-badge.svg\" alt=\"Open In Colab\"/></a>"
      ]
    },
    {
      "cell_type": "code",
      "execution_count": 1,
      "metadata": {
        "id": "yhvxGLihuQYJ"
      },
      "outputs": [],
      "source": [
        "path = 'data/'"
      ]
    },
    {
      "cell_type": "markdown",
      "metadata": {
        "id": "4zPWSKmi5ka2"
      },
      "source": [
        "Extract range of dates from bp data"
      ]
    },
    {
      "cell_type": "code",
      "execution_count": 2,
      "metadata": {
        "colab": {
          "base_uri": "https://localhost:8080/"
        },
        "id": "HJaJdI957Q3p",
        "outputId": "43dc5763-68f2-45e3-cea0-b6d55fed6780"
      },
      "outputs": [
        {
          "name": "stdout",
          "output_type": "stream",
          "text": [
            "unfiltered shape (10772, 24)\n",
            "number of sys-dias swaps 10438\n",
            "Shape of bp table after removing out of range systolic values (10700, 24)\n",
            "Shape of bp table after removing out of range diastolic values (10509, 24)\n",
            "min 2015-03-09\n",
            "max 2015-10-27\n",
            "Index(['healthCode', 'date', 'diastolic', 'systolic'], dtype='object')\n"
          ]
        }
      ],
      "source": [
        "from datetime import timedelta\n",
        "import pandas as pd\n",
        "from utils import fix_sys_dias, master_merge, get_non_zero\n",
        "\n",
        "# Extracts range from BP data\n",
        "bp = pd.read_csv(path + 'bp.csv')\n",
        "bp['createdOn'] = bp['createdOn'] / 1000\n",
        "bp['createdOn'] = pd.to_datetime(bp['createdOn'], unit='s')\n",
        "bp['date'] = bp['createdOn'].dt.date\n",
        "bp = bp.rename(columns={'heartAgeDataSystolicBloodPressure': 'systolic', 'bloodPressureInstruction': 'diastolic'})\n",
        "bp = fix_sys_dias(bp)\n",
        "bp = bp[['healthCode', 'date', 'diastolic', 'systolic']]\n",
        "\n",
        "\n",
        "min_date = bp['date'].min() - timedelta(days=1)     # Add a padding day to min date to still consider prior day values\n",
        "max_date = bp['date'].max()\n",
        "\n",
        "print('min', min_date)\n",
        "print('max', max_date)\n",
        "print(bp.columns)"
      ]
    },
    {
      "cell_type": "markdown",
      "metadata": {
        "id": "3KcFl7SU54UL"
      },
      "source": [
        "**Read HealthKit data**"
      ]
    },
    {
      "cell_type": "code",
      "execution_count": 3,
      "metadata": {
        "colab": {
          "base_uri": "https://localhost:8080/",
          "height": 423
        },
        "id": "xn_8YCj2515H",
        "outputId": "730ed52a-938f-4c90-8615-e0297c830f3f"
      },
      "outputs": [],
      "source": [
        "hk = pd.read_csv(path + 'hk.csv')\n",
        "hk = hk.rename(columns={'HKQuantityTypeIdentifierHeartRate': 'heart_rate', 'HKQuantityTypeIdentifierDistanceWalkingRunning': 'distance_walking',\n",
        "                   'HKQuantityTypeIdentifierBloodPressureDiastolic': 'diastolic_ex', 'HKQuantityTypeIdentifierBloodPressureSystolic': 'systolic_ex',\n",
        "                   'HKQuantityTypeIdentifierStepCount': 'steps', 'HKQuantityTypeIdentifierFlightsClimbed': 'floors',\n",
        "                   'HKQuantityTypeIdentifierActiveEnergyBurned': 'active_calories', 'HKQuantityTypeIdentifierDistanceCycling': 'distance_cycling'})\n",
        "hk = hk.drop(['systolic_ex', 'diastolic_ex'], axis=1)\n",
        "hk['date'] = pd.to_datetime(hk['date'])\n",
        "hk['date'] = hk['date'].dt.date"
      ]
    },
    {
      "cell_type": "markdown",
      "metadata": {
        "id": "F-fhQ92-ClGD"
      },
      "source": [
        "**Read sleep data**"
      ]
    },
    {
      "cell_type": "code",
      "execution_count": 4,
      "metadata": {
        "colab": {
          "base_uri": "https://localhost:8080/"
        },
        "id": "xhgIfTkrCsPF",
        "outputId": "f01a711d-26e5-4cb7-ebd1-2db1a8dbd5da"
      },
      "outputs": [],
      "source": [
        "sleep = pd.read_csv(path + 'sleep.csv')\n",
        "sleep['date'] = pd.to_datetime(sleep['date'])\n",
        "sleep['date'] = sleep['date'].dt.date\n",
        "sleep['bed_time'] = sleep[sleep['bed_time'].notnull()]['bed_time']/ pd.Timedelta(minutes=1) ## Suggested change to convert bed_time from hh:mm:ss to integer\n"
      ]
    },
    {
      "cell_type": "markdown",
      "metadata": {
        "id": "2GSN6bvwDXQt"
      },
      "source": [
        "**Read workout data**"
      ]
    },
    {
      "cell_type": "code",
      "execution_count": 5,
      "metadata": {
        "colab": {
          "base_uri": "https://localhost:8080/",
          "height": 423
        },
        "id": "K7K1PZKuDaAQ",
        "outputId": "a59319a5-b64b-4122-e723-0859ddc390f2"
      },
      "outputs": [
        {
          "name": "stdout",
          "output_type": "stream",
          "text": [
            "            date                            healthCode  active_minutes  \\\n",
            "0     2014-06-02  8ebdc824-bd18-4290-a887-197a6b3ec4bc             0.0   \n",
            "1     2014-06-15  8ebdc824-bd18-4290-a887-197a6b3ec4bc             0.0   \n",
            "2     2014-06-17  8ebdc824-bd18-4290-a887-197a6b3ec4bc             0.0   \n",
            "3     2014-06-22  8ebdc824-bd18-4290-a887-197a6b3ec4bc             0.0   \n",
            "4     2014-06-26  8ebdc824-bd18-4290-a887-197a6b3ec4bc             0.0   \n",
            "...          ...                                   ...             ...   \n",
            "4317  2015-10-26  0a6eb7f8-c05d-4119-bfe0-f0e233d9f747             0.0   \n",
            "4318  2015-10-26  37633071-388d-4e6e-b6fc-29e37a70a936             0.0   \n",
            "4319  2015-10-26  56e4f3c3-2c3b-4f65-a598-2908a13353d0             0.0   \n",
            "4320  2015-10-26  a1461e7f-9a77-411f-9698-6dd6e5bed59b             0.0   \n",
            "4321  2015-10-26  a88f3758-0e43-43bd-bc6a-55a0780ec643             0.0   \n",
            "\n",
            "      wo_calories  \n",
            "0           0.000  \n",
            "1           0.000  \n",
            "2           0.000  \n",
            "3           0.000  \n",
            "4           0.000  \n",
            "...           ...  \n",
            "4317      757.975  \n",
            "4318        0.000  \n",
            "4319       55.789  \n",
            "4320     4697.000  \n",
            "4321      117.516  \n",
            "\n",
            "[4322 rows x 4 columns]\n"
          ]
        }
      ],
      "source": [
        "wo = pd.read_csv(path + 'workout.csv')\n",
        "wo = wo.rename(columns={'energy.consumed': 'wo_calories'})\n",
        "\n",
        "wo['startTime'] = wo['startTime'].str.slice(0,19)   # Remove timezone information\n",
        "wo['startTime'] = pd.to_datetime(wo['startTime'], format='%Y-%m-%d %H:%M:%S', errors='coerce')\n",
        "wo['endTime'] = wo['endTime'].str.slice(0,19)   # Remove timezone information\n",
        "wo['endTime'] = pd.to_datetime(wo['endTime'], format='%Y-%m-%d %H:%M:%S%z', errors='coerce')\n",
        "\n",
        "# Calculate active time in minutes\n",
        "wo['active_minutes'] = (wo['endTime'] - wo['startTime']).dt.total_seconds() / 60\n",
        "\n",
        "# Group by day\n",
        "wo['date'] = wo['startTime'].dt.date\n",
        "wo = wo.groupby(['date', 'healthCode']).agg({'active_minutes': 'sum', 'wo_calories': 'sum'}).reset_index()\n",
        "\n",
        "print(wo)"
      ]
    },
    {
      "cell_type": "markdown",
      "metadata": {},
      "source": [
        "**Merge all sub_datasets into master dataset**"
      ]
    },
    {
      "cell_type": "code",
      "execution_count": 6,
      "metadata": {
        "colab": {
          "base_uri": "https://localhost:8080/",
          "height": 470
        },
        "id": "wiPGDe_FQBtm",
        "outputId": "4b88a043-116f-49a6-db3f-e90536e19d37"
      },
      "outputs": [
        {
          "name": "stdout",
          "output_type": "stream",
          "text": [
            "hk shape (51123, 8)\n",
            "sleep shape (8420, 5)\n",
            "hk-sleep merged shape (55916, 11)\n",
            "selected cols ['bed_time', 'distance_cycling', 'distance_walking', 'sleep_minutes', 'active_calories', 'floors', 'heart_rate', 'steps', 'awake_count']\n",
            "Number of non-zero and not NaN values: 151545\n",
            "Number of rows with at least one non-zero and not NaN value: 55701\n",
            "--------------------------------------------------------------------------------\n",
            "hk-sleep shape (55916, 11)\n",
            "wo shape (4322, 4)\n",
            "hk-sleep-wo shape (56797, 13)\n",
            "selected cols ['active_minutes', 'bed_time', 'distance_cycling', 'distance_walking', 'sleep_minutes', 'wo_calories', 'active_calories', 'floors', 'heart_rate', 'steps', 'awake_count']\n",
            "Number of non-zero and not NaN values: 155733\n",
            "Number of rows with at least one non-zero and not NaN value: 56537\n",
            "--------------------------------------------------------------------------------\n",
            "MASTER MERGE - baseline\n"
          ]
        },
        {
          "name": "stdout",
          "output_type": "stream",
          "text": [
            "baseline (hk-sleep-wo-bp merge) (10509, 15) \n",
            "\n",
            "selected cols ['active_minutes', 'bed_time', 'distance_cycling', 'distance_walking', 'sleep_minutes', 'wo_calories', 'active_calories', 'floors', 'heart_rate', 'steps', 'awake_count']\n",
            "Number of non-zero and not NaN values: 3403\n",
            "Number of rows with at least one non-zero and not NaN value: 1117\n",
            "--------------------------------------------------------------------------------\n"
          ]
        }
      ],
      "source": [
        "# Merge healthkit_df with sleep_df\n",
        "print('hk shape', hk.shape)\n",
        "print('sleep shape', sleep.shape)\n",
        "predictor_df = hk.merge(sleep, on=['healthCode', 'date'], how='outer')\n",
        "print('hk-sleep merged shape', predictor_df.shape)\n",
        "get_non_zero(predictor_df)\n",
        "print('--------------------------------------------------------------------------------')\n",
        "\n",
        "# Merge workout_df with merged (healthkit_df, sleep_df) --> predictor_df\n",
        "print('hk-sleep shape', predictor_df.shape)\n",
        "print('wo shape', wo.shape)\n",
        "predictor_df = predictor_df.merge(wo, on=['healthCode', 'date'], how='outer')\n",
        "# print number of unique date and user combinations in predictor\n",
        "print('hk-sleep-wo shape', predictor_df.shape)\n",
        "get_non_zero(predictor_df)\n",
        "print('--------------------------------------------------------------------------------')\n",
        "\n",
        "# MASTER MERGE - Merge with bp_df\n",
        "print('MASTER MERGE - baseline')\n",
        "baseline = master_merge(predictor_df, bp)\n",
        "print('baseline (hk-sleep-wo-bp merge)', baseline.shape, '\\n')\n",
        "get_non_zero(baseline)\n",
        "baseline.to_csv('data/baseline.csv', index=False)\n",
        "print('--------------------------------------------------------------------------------')\n"
      ]
    },
    {
      "cell_type": "markdown",
      "metadata": {},
      "source": [
        "**AUGMENTATIONS** - \n",
        "Implements 3 augmentation strategies:\n",
        "1) k-rolling average: replaces missing values with the rolling average of a k sized window along the temporal dimension for each user\n",
        "2) KNN intra user imputation: searches for nearest neighbors only within the same user\n",
        "3) KNN inter user imputation: searches for nearest neighbors accross all users"
      ]
    },
    {
      "cell_type": "code",
      "execution_count": 8,
      "metadata": {},
      "outputs": [
        {
          "name": "stdout",
          "output_type": "stream",
          "text": [
            "AUGMENTATION - rolling k days\n",
            "augmented (10509, 15)\n",
            "augmented NON-ZERO values\n",
            "selected cols ['active_minutes', 'bed_time', 'distance_cycling', 'distance_walking', 'sleep_minutes', 'wo_calories', 'active_calories', 'floors', 'heart_rate', 'steps', 'awake_count']\n",
            "Number of non-zero and not NaN values: 4250\n",
            "Number of rows with at least one non-zero and not NaN value: 1364\n",
            "--------------------------------------------------------------------------------\n",
            "AUGMENTATION - knn impute intra user\n",
            "imputed (10509, 15)\n",
            "imputed NON-ZERO values\n",
            "selected cols ['active_minutes', 'bed_time', 'distance_cycling', 'distance_walking', 'sleep_minutes', 'wo_calories', 'active_calories', 'floors', 'heart_rate', 'steps', 'awake_count']\n",
            "Number of non-zero and not NaN values: 4399\n",
            "Number of rows with at least one non-zero and not NaN value: 1120\n",
            "--------------------------------------------------------------------------------\n",
            "AUGMENTATION - knn impute inter user\n",
            "imputed (10509, 15)\n",
            "imputed NON-ZERO values\n",
            "selected cols ['active_minutes', 'bed_time', 'distance_cycling', 'distance_walking', 'sleep_minutes', 'wo_calories', 'active_calories', 'floors', 'heart_rate', 'steps', 'awake_count']\n",
            "Number of non-zero and not NaN values: 7554\n",
            "Number of rows with at least one non-zero and not NaN value: 1120\n"
          ]
        }
      ],
      "source": [
        "from augmentations import rolling_k_days, knn_impute_intra_user, knn_impute_inter_user\n",
        "\n",
        "# AUGMENTATION - rolling k days\n",
        "k = 3\n",
        "print('AUGMENTATION - rolling k days')\n",
        "# Prepare pre_augmentation df with all data with bp and predictor_df\n",
        "pre_augmented = bp.merge(predictor_df, on=['healthCode', 'date'], how='outer')\n",
        "# drop systolic and diastolic columns\n",
        "pre_augmented = pre_augmented.drop(['systolic', 'diastolic'], axis=1)\n",
        "# Augment the pre_augmented df\n",
        "pre_augmented = rolling_k_days(pre_augmented, k)\n",
        "augmented_k = master_merge(pre_augmented, bp)\n",
        "print('augmented', augmented_k.shape)\n",
        "print('augmented NON-ZERO values')\n",
        "get_non_zero(augmented_k)\n",
        "augmented_k.to_csv('data/augmented_k.csv')\n",
        "print('--------------------------------------------------------------------------------')\n",
        "\n",
        "# AUGMENTATION - knn impute intra user\n",
        "k = 3\n",
        "print('AUGMENTATION - knn impute intra user')\n",
        "augmented_intra = knn_impute_intra_user(predictor_df, k)\n",
        "augmented_intra = master_merge(augmented_intra, bp)\n",
        "print('imputed', augmented_intra.shape)\n",
        "print('imputed NON-ZERO values')\n",
        "get_non_zero(augmented_intra)\n",
        "augmented_intra.to_csv('data/augmented_intra.csv')\n",
        "print('--------------------------------------------------------------------------------')\n",
        "\n",
        "# AUGMENTATION - knn impute inter user\n",
        "k = 3\n",
        "print('AUGMENTATION - knn impute inter user')\n",
        "augmented_inter = knn_impute_inter_user(predictor_df, k)\n",
        "augmented_inter = master_merge(augmented_inter, bp)\n",
        "print('imputed', augmented_inter.shape)\n",
        "print('imputed NON-ZERO values')\n",
        "get_non_zero(augmented_inter)\n",
        "augmented_inter.to_csv('data/augmented_inter.csv')"
      ]
    }
  ],
  "metadata": {
    "colab": {
      "include_colab_link": true,
      "provenance": []
    },
    "kernelspec": {
      "display_name": "Python 3",
      "name": "python3"
    },
    "language_info": {
      "codemirror_mode": {
        "name": "ipython",
        "version": 3
      },
      "file_extension": ".py",
      "mimetype": "text/x-python",
      "name": "python",
      "nbconvert_exporter": "python",
      "pygments_lexer": "ipython3",
      "version": "3.11.7"
    }
  },
  "nbformat": 4,
  "nbformat_minor": 0
}
