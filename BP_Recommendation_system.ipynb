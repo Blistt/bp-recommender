{
  "cells": [
    {
      "cell_type": "markdown",
      "metadata": {
        "colab_type": "text",
        "id": "view-in-github"
      },
      "source": [
        "<a href=\"https://colab.research.google.com/github/Blistt/bp-recommender/blob/Romasa/BP_Recommendation_system.ipynb\" target=\"_parent\"><img src=\"https://colab.research.google.com/assets/colab-badge.svg\" alt=\"Open In Colab\"/></a>"
      ]
    },
    {
      "cell_type": "markdown",
      "metadata": {
        "id": "SEGAEuRb_-r9"
      },
      "source": [
        "##Important library install and connection"
      ]
    },
    {
      "cell_type": "code",
      "execution_count": 1,
      "metadata": {
        "id": "yhvxGLihuQYJ"
      },
      "outputs": [],
      "source": [
        "path = 'data/'"
      ]
    },
    {
      "cell_type": "markdown",
      "metadata": {
        "id": "4zPWSKmi5ka2"
      },
      "source": [
        "Extract range of dates from bp data"
      ]
    },
    {
      "cell_type": "code",
      "execution_count": 2,
      "metadata": {
        "id": "44b9fOP7zwun"
      },
      "outputs": [],
      "source": [
        "'''\n",
        "the values in the systolic and diastolic columns are mixed up and erroneous i.e., systolic should be always greater than diastolic but due to manual entry\n",
        "some of the people entered it the other way. Moreover, some people have entered wrong data like 8.0 for diastolic etc.\n",
        "The code below will swap the diastolic and systolic values where required and remove the entries which falls below the specified range\n",
        "'''\n",
        "def fix_sys_dias(bp):\n",
        "  print('unfiltered shape', bp.shape)\n",
        "\n",
        "  # Create a mask where diastolic is greater than systolic\n",
        "  mask = bp['diastolic'] > bp['systolic']\n",
        "\n",
        "  # Use the mask to swap the values\n",
        "  bp.loc[mask, ['systolic', 'diastolic']] = bp.loc[mask, ['diastolic', 'systolic']].values\n",
        "  print('number of sys-dias swaps', mask.sum())\n",
        "  bp = bp[(bp['systolic'] >= 40) & (bp['systolic'] <= 340)]     # keeping only within range systolic values\n",
        "  print('Shape of bp table after removing out of range systolic values', bp.shape)\n",
        "  bp = bp[(bp['diastolic'] >= 10) & (bp['diastolic'] <= 200)]     # keeping only within range diastolic values\n",
        "  print('Shape of bp table after removing out of range diastolic values', bp.shape)\n",
        "\n",
        "  return bp"
      ]
    },
    {
      "cell_type": "code",
      "execution_count": 3,
      "metadata": {
        "colab": {
          "base_uri": "https://localhost:8080/"
        },
        "id": "HJaJdI957Q3p",
        "outputId": "43dc5763-68f2-45e3-cea0-b6d55fed6780"
      },
      "outputs": [
        {
          "name": "stdout",
          "output_type": "stream",
          "text": [
            "unfiltered shape (10772, 24)\n",
            "number of sys-dias swaps 10438\n",
            "Shape of bp table after removing out of range systolic values (10700, 24)\n",
            "Shape of bp table after removing out of range diastolic values (10509, 24)\n",
            "min 2015-03-09\n",
            "max 2015-10-27\n",
            "Index(['healthCode', 'date', 'diastolic', 'systolic'], dtype='object')\n"
          ]
        }
      ],
      "source": [
        "from datetime import timedelta\n",
        "import pandas as pd\n",
        "\n",
        "# Extracts range from BP data\n",
        "bp = pd.read_csv(path + 'bp.csv')\n",
        "bp['createdOn'] = bp['createdOn'] / 1000\n",
        "bp['createdOn'] = pd.to_datetime(bp['createdOn'], unit='s')\n",
        "bp['date'] = bp['createdOn'].dt.date\n",
        "bp = bp.rename(columns={'heartAgeDataSystolicBloodPressure': 'systolic', 'bloodPressureInstruction': 'diastolic'})\n",
        "bp = fix_sys_dias(bp)\n",
        "bp = bp[['healthCode', 'date', 'diastolic', 'systolic']]\n",
        "\n",
        "bp.fillna(0, inplace=True)\n",
        "\n",
        "\n",
        "min_date = bp['date'].min() - timedelta(days=1)     # Add a padding day to min date to still consider prior day values\n",
        "max_date = bp['date'].max()\n",
        "\n",
        "print('min', min_date)\n",
        "print('max', max_date)\n",
        "print(bp.columns)"
      ]
    },
    {
      "cell_type": "markdown",
      "metadata": {
        "id": "3KcFl7SU54UL"
      },
      "source": [
        "Read HealthKit data"
      ]
    },
    {
      "cell_type": "code",
      "execution_count": 15,
      "metadata": {
        "colab": {
          "base_uri": "https://localhost:8080/",
          "height": 423
        },
        "id": "xn_8YCj2515H",
        "outputId": "730ed52a-938f-4c90-8615-e0297c830f3f"
      },
      "outputs": [
        {
          "name": "stdout",
          "output_type": "stream",
          "text": [
            "                                 healthCode        date  distance_cycling  \\\n",
            "0      003149e8-dd47-4a71-b434-2d9243773aa2  2015-08-07               0.0   \n",
            "1      003149e8-dd47-4a71-b434-2d9243773aa2  2015-08-09               0.0   \n",
            "2      003149e8-dd47-4a71-b434-2d9243773aa2  2015-08-10               0.0   \n",
            "3      003149e8-dd47-4a71-b434-2d9243773aa2  2015-08-11               0.0   \n",
            "4      003149e8-dd47-4a71-b434-2d9243773aa2  2015-08-14               0.0   \n",
            "...                                     ...         ...               ...   \n",
            "51118  fffddf4f-ebac-4ae2-86bb-50651a59236e  2015-10-16               0.0   \n",
            "51119  fffddf4f-ebac-4ae2-86bb-50651a59236e  2015-10-21               0.0   \n",
            "51120  fffddf4f-ebac-4ae2-86bb-50651a59236e  2015-10-22               0.0   \n",
            "51121  fffddf4f-ebac-4ae2-86bb-50651a59236e  2015-10-23               0.0   \n",
            "51122  fffddf4f-ebac-4ae2-86bb-50651a59236e  2015-10-24               0.0   \n",
            "\n",
            "       distance_walking  floors  active_calories    steps  heart_rate  \n",
            "0           5112.060000     9.0              0.0   6116.0         0.0  \n",
            "1          21460.910000    18.0              0.0  16368.0         0.0  \n",
            "2            982.810000     0.0              0.0    383.0         0.0  \n",
            "3           1547.640000     5.0              0.0   1852.0         0.0  \n",
            "4           1396.300000     7.0              0.0   1820.0         0.0  \n",
            "...                 ...     ...              ...      ...         ...  \n",
            "51118       5239.538405     2.0              0.0   7260.0         0.0  \n",
            "51119       3139.651830    18.0              0.0   4611.0         0.0  \n",
            "51120       1452.405042     3.0              0.0   1299.0         0.0  \n",
            "51121       3324.950853     4.0              0.0   3500.0         0.0  \n",
            "51122        521.657376     0.0              0.0    533.0         0.0  \n",
            "\n",
            "[47327 rows x 8 columns]\n"
          ]
        }
      ],
      "source": [
        "hk = pd.read_csv(path + 'hk.csv')\n",
        "hk = hk.rename(columns={'HKQuantityTypeIdentifierHeartRate': 'heart_rate', 'HKQuantityTypeIdentifierDistanceWalkingRunning': 'distance_walking',\n",
        "                   'HKQuantityTypeIdentifierBloodPressureDiastolic': 'diastolic_ex', 'HKQuantityTypeIdentifierBloodPressureSystolic': 'systolic_ex',\n",
        "                   'HKQuantityTypeIdentifierStepCount': 'steps', 'HKQuantityTypeIdentifierFlightsClimbed': 'floors',\n",
        "                   'HKQuantityTypeIdentifierActiveEnergyBurned': 'active_calories', 'HKQuantityTypeIdentifierDistanceCycling': 'distance_cycling'})\n",
        "hk = hk.drop(['systolic_ex', 'diastolic_ex'], axis=1)\n",
        "hk['date'] = pd.to_datetime(hk['date'])\n",
        "hk['date'] = hk['date'].dt.date\n",
        "hk.fillna(0, inplace=True)\n",
        "\n",
        "hk = hk[(hk['date'] >= min_date) & (hk['date'] <= max_date)]\n",
        "print(hk)"
      ]
    },
    {
      "cell_type": "markdown",
      "metadata": {
        "id": "F-fhQ92-ClGD"
      },
      "source": [
        "**Read sleep data**"
      ]
    },
    {
      "cell_type": "code",
      "execution_count": 16,
      "metadata": {
        "colab": {
          "base_uri": "https://localhost:8080/"
        },
        "id": "xhgIfTkrCsPF",
        "outputId": "f01a711d-26e5-4cb7-ebd1-2db1a8dbd5da"
      },
      "outputs": [
        {
          "name": "stdout",
          "output_type": "stream",
          "text": [
            "                                healthCode        date  sleep_minutes  \\\n",
            "0     383e1eee-cf63-4c4c-9194-6100ff86e310  2015-06-28     411.000000   \n",
            "1     a7d67779-d082-4c74-9a06-f0544a37d378  2015-06-27      43.000000   \n",
            "2     a7d67779-d082-4c74-9a06-f0544a37d378  2015-06-28     184.000000   \n",
            "3     a7d67779-d082-4c74-9a06-f0544a37d378  2015-06-29     254.250000   \n",
            "4     6b771aad-7228-41ab-8628-39cf44e79f33  2015-06-12     228.000000   \n",
            "...                                    ...         ...            ...   \n",
            "8415  ca1152fe-05d5-498d-92ad-76771338b50e  2015-10-26     442.000000   \n",
            "8416  ac6e2546-9ec0-47d6-981e-44341f38446d  2015-10-26     277.366667   \n",
            "8417  a88f3758-0e43-43bd-bc6a-55a0780ec643  2015-10-25       5.000000   \n",
            "8418  a88f3758-0e43-43bd-bc6a-55a0780ec643  2015-10-26     231.000000   \n",
            "8419  a88f3758-0e43-43bd-bc6a-55a0780ec643  2015-10-27      11.000000   \n",
            "\n",
            "      awake_count     bed_time  \n",
            "0               1   102.000000  \n",
            "1               1   128.516667  \n",
            "2               1  1354.200000  \n",
            "3               9   317.750000  \n",
            "4               1   314.000000  \n",
            "...           ...          ...  \n",
            "8415            1  1357.500000  \n",
            "8416            1  1387.050000  \n",
            "8417            1   482.000000  \n",
            "8418           12   264.000000  \n",
            "8419            1   244.000000  \n",
            "\n",
            "[8255 rows x 5 columns]\n"
          ]
        }
      ],
      "source": [
        "sleep = pd.read_csv(path + 'sleep.csv')\n",
        "sleep['date'] = pd.to_datetime(sleep['date'])\n",
        "sleep['date'] = sleep['date'].dt.date\n",
        "sleep['bed_time'] = sleep[sleep['bed_time'].notnull()]['bed_time']/ pd.Timedelta(minutes=1) ## Suggested change to convert bed_time from hh:mm:ss to integer\n",
        "sleep.fillna(0, inplace=True)\n",
        "\n",
        "sleep = sleep[(sleep['date'] >= min_date) & (sleep['date'] <= max_date)]\n",
        "print(sleep)"
      ]
    },
    {
      "cell_type": "markdown",
      "metadata": {
        "id": "2GSN6bvwDXQt"
      },
      "source": [
        "**Read workout data**"
      ]
    },
    {
      "cell_type": "code",
      "execution_count": 6,
      "metadata": {
        "colab": {
          "base_uri": "https://localhost:8080/",
          "height": 423
        },
        "id": "K7K1PZKuDaAQ",
        "outputId": "a59319a5-b64b-4122-e723-0859ddc390f2"
      },
      "outputs": [
        {
          "name": "stdout",
          "output_type": "stream",
          "text": [
            "            date                            healthCode  active_minutes  \\\n",
            "0     2014-06-02  8ebdc824-bd18-4290-a887-197a6b3ec4bc             0.0   \n",
            "1     2014-06-15  8ebdc824-bd18-4290-a887-197a6b3ec4bc             0.0   \n",
            "2     2014-06-17  8ebdc824-bd18-4290-a887-197a6b3ec4bc             0.0   \n",
            "3     2014-06-22  8ebdc824-bd18-4290-a887-197a6b3ec4bc             0.0   \n",
            "4     2014-06-26  8ebdc824-bd18-4290-a887-197a6b3ec4bc             0.0   \n",
            "...          ...                                   ...             ...   \n",
            "4317  2015-10-26  0a6eb7f8-c05d-4119-bfe0-f0e233d9f747             0.0   \n",
            "4318  2015-10-26  37633071-388d-4e6e-b6fc-29e37a70a936             0.0   \n",
            "4319  2015-10-26  56e4f3c3-2c3b-4f65-a598-2908a13353d0             0.0   \n",
            "4320  2015-10-26  a1461e7f-9a77-411f-9698-6dd6e5bed59b             0.0   \n",
            "4321  2015-10-26  a88f3758-0e43-43bd-bc6a-55a0780ec643             0.0   \n",
            "\n",
            "      wo_calories  \n",
            "0           0.000  \n",
            "1           0.000  \n",
            "2           0.000  \n",
            "3           0.000  \n",
            "4           0.000  \n",
            "...           ...  \n",
            "4317      757.975  \n",
            "4318        0.000  \n",
            "4319       55.789  \n",
            "4320     4697.000  \n",
            "4321      117.516  \n",
            "\n",
            "[4322 rows x 4 columns]\n"
          ]
        }
      ],
      "source": [
        "wo = pd.read_csv(path + 'workout.csv')\n",
        "wo = wo.rename(columns={'energy.consumed': 'wo_calories'})\n",
        "\n",
        "wo['startTime'] = wo['startTime'].str.slice(0,19)   # Remove timezone information\n",
        "wo['startTime'] = pd.to_datetime(wo['startTime'], format='%Y-%m-%d %H:%M:%S', errors='coerce')\n",
        "wo['endTime'] = wo['endTime'].str.slice(0,19)   # Remove timezone information\n",
        "wo['endTime'] = pd.to_datetime(wo['endTime'], format='%Y-%m-%d %H:%M:%S%z', errors='coerce')\n",
        "\n",
        "# Calculate active time in minutes\n",
        "wo['active_minutes'] = (wo['endTime'] - wo['startTime']).dt.total_seconds() / 60\n",
        "wo.fillna(0)\n",
        "\n",
        "# Group by day\n",
        "wo['date'] = wo['startTime'].dt.date\n",
        "wo = wo.groupby(['date', 'healthCode']).agg({'active_minutes': 'sum', 'wo_calories': 'sum'}).reset_index()\n",
        "\n",
        "print(wo)"
      ]
    },
    {
      "cell_type": "code",
      "execution_count": 7,
      "metadata": {
        "id": "32jxot-3tiza"
      },
      "outputs": [],
      "source": [
        "def master_merge(predictor_df, bp):\n",
        "  bp['date'] = pd.to_datetime(bp['date'])\n",
        "  predictor_df['date'] = predictor_df['date'].astype(bp['date'].dtypes)\n",
        "  predictor_df = predictor_df.drop_duplicates(subset=['healthCode', 'date'])\n",
        "  master_df = bp.merge(predictor_df, on=['healthCode', 'date'], how='left')\n",
        "  return master_df"
      ]
    },
    {
      "cell_type": "code",
      "execution_count": 23,
      "metadata": {},
      "outputs": [],
      "source": [
        "def get_non_zero(df):\n",
        "    excluded_cols = ['healthCode', 'date', 'systolic', 'diastolic']\n",
        "    selected_cols = list(set(df.columns) - set(excluded_cols))\n",
        "    print('selected cols', selected_cols)\n",
        "    valid_values = df[selected_cols].ne(0).sum().sum()\n",
        "    print('Number of non-zero and not NaN values:', valid_values)\n",
        "    valid_rows = df[selected_cols].ne(0).any(axis=1).sum()\n",
        "    print('Number of rows with at least one non-zero and not NaN value:', valid_rows)\n",
        "    return valid_values"
      ]
    },
    {
      "cell_type": "code",
      "execution_count": 29,
      "metadata": {},
      "outputs": [],
      "source": [
        "from sklearn.impute import KNNImputer\n",
        "import numpy as np\n",
        "\n",
        "def knn_impute(predictor):\n",
        "    cols = [col for col in predictor.columns if col not in ['healthCode', 'date', 'systoclic', 'diastolic']]\n",
        "\n",
        "    # Create the imputer\n",
        "    imputer = KNNImputer(n_neighbors=3)\n",
        "\n",
        "    # Split the DataFrame by 'id', apply the imputation, and concatenate the results\n",
        "    predictor_imputed = pd.concat(\n",
        "        (pd.DataFrame(imputer.fit_transform(sub_df[cols]), columns=cols) \n",
        "         for id, sub_df in predictor.groupby('healthCode')),\n",
        "        ignore_index=True\n",
        "    )\n",
        "    # Convert the result back to a DataFrame (if necessary)\n",
        "    predictor_imputed = pd.DataFrame(predictor_imputed, columns=predictor.columns)\n",
        "\n",
        "    return predictor_imputed"
      ]
    },
    {
      "cell_type": "code",
      "execution_count": 102,
      "metadata": {},
      "outputs": [
        {
          "name": "stdout",
          "output_type": "stream",
          "text": [
            "(52837, 13)\n",
            "(151, 12)\n",
            "ooooo [ 33  44  31  28  52   7  42  92  36  10  15 106  46   5  17  93  56   3\n",
            "  40 111  75 105 113  24  53  83  64   2  80  98  84  68  12  21  96  35\n",
            " 109  71  54  60  34   4 118  25  62  50  79  29  82  76  13 112  22 104\n",
            "  45 101  39  74 122  73  99]\n",
            "                                healthCode       date  distance_cycling  \\\n",
            "5400  1e399fc2-7854-4608-b8cc-ddac6c77e005 2015-04-11               0.0   \n",
            "5411  1e399fc2-7854-4608-b8cc-ddac6c77e005 2015-04-22               0.0   \n",
            "5398  1e399fc2-7854-4608-b8cc-ddac6c77e005 2015-04-09               0.0   \n",
            "5395  1e399fc2-7854-4608-b8cc-ddac6c77e005 2015-04-06               0.0   \n",
            "5419  1e399fc2-7854-4608-b8cc-ddac6c77e005 2015-04-30               0.0   \n",
            "...                                    ...        ...               ...   \n",
            "5406  1e399fc2-7854-4608-b8cc-ddac6c77e005 2015-04-17               0.0   \n",
            "5441  1e399fc2-7854-4608-b8cc-ddac6c77e005 2015-05-22               0.0   \n",
            "5489  1e399fc2-7854-4608-b8cc-ddac6c77e005 2015-07-09               0.0   \n",
            "5440  1e399fc2-7854-4608-b8cc-ddac6c77e005 2015-05-21               0.0   \n",
            "5466  1e399fc2-7854-4608-b8cc-ddac6c77e005 2015-06-16               0.0   \n",
            "\n",
            "      distance_walking  floors  active_calories    steps  heart_rate  \\\n",
            "5400           8290.49    21.0        2036000.0  12174.0        0.00   \n",
            "5411           9437.51    11.0        2046000.0  11194.0        0.00   \n",
            "5398              0.00    13.0        2024000.0   7094.0        0.00   \n",
            "5395          12279.35    21.0        2052000.0  16554.0        0.00   \n",
            "5419          10901.77    20.0        2018000.0  13341.0        0.00   \n",
            "...                ...     ...              ...      ...         ...   \n",
            "5406           6627.67    11.0        1498000.0   7579.0        0.00   \n",
            "5441              0.00     0.0        1496000.0   5359.0        0.00   \n",
            "5489              0.00    32.0        1489000.0  20426.0        1.05   \n",
            "5440           6098.44     7.0        1480000.0   6376.0        0.00   \n",
            "5466           8087.83    17.0        2600000.0   9008.0        0.00   \n",
            "\n",
            "      sleep_minutes  awake_count  bed_time  active_minutes  wo_calories  \n",
            "5400            0.0          0.0       0.0             0.0          0.0  \n",
            "5411            0.0          0.0       0.0             0.0          0.0  \n",
            "5398            0.0          0.0       0.0             0.0          0.0  \n",
            "5395            0.0          0.0       0.0             0.0          0.0  \n",
            "5419            0.0          0.0       0.0             0.0          0.0  \n",
            "...             ...          ...       ...             ...          ...  \n",
            "5406            0.0          0.0       0.0             0.0          0.0  \n",
            "5441            0.0          0.0       0.0             0.0          0.0  \n",
            "5489            0.0          0.0       0.0             0.0          0.0  \n",
            "5440            0.0          0.0       0.0             0.0          0.0  \n",
            "5466            0.0          0.0       0.0             0.0          0.0  \n",
            "\n",
            "[61 rows x 13 columns]\n"
          ]
        },
        {
          "name": "stderr",
          "output_type": "stream",
          "text": [
            "d:\\miniconda3\\envs\\bp_rec\\Lib\\site-packages\\sklearn\\base.py:439: UserWarning: X does not have valid feature names, but NearestNeighbors was fitted with feature names\n",
            "  warnings.warn(\n"
          ]
        }
      ],
      "source": [
        "from sklearn.neighbors import NearestNeighbors\n",
        "\n",
        "from sklearn.neighbors import NearestNeighbors\n",
        "\n",
        "from sklearn.neighbors import NearestNeighbors\n",
        "\n",
        "def get_neighbors(df, index, k=3):\n",
        "     # Assuming 'df' is your DataFrame and you want to find the neighbors based on all columns except 'healthCode'\n",
        "    df.fillna(0, inplace=True)\n",
        "    cols = [col for col in df.columns if col not in ['healthCode', 'date', 'systoclic', 'diastolic']]\n",
        "    X = df[df['healthCode'] == df['healthCode'].iloc[index]]\n",
        "    X = X[cols]\n",
        "    X = X.fillna(0)\n",
        "    print('entries with selected health')\n",
        "\n",
        "    # Reset the index and keep the old index\n",
        "    X.reset_index(inplace=True)\n",
        "\n",
        "    print(X.shape)\n",
        "\n",
        "    # Create the estimator\n",
        "    nbrs = NearestNeighbors(n_neighbors=k+1, algorithm='ball_tree').fit(X[cols])\n",
        "\n",
        "    # Get the k nearest neighbors of the specified index\n",
        "    distances, indices = nbrs.kneighbors(X[X['index'] == index][cols].values.reshape(1, -1))\n",
        "\n",
        "    # Print the indices of the neighbors\n",
        "    print('ooooo', indices[0])\n",
        "    print(df.iloc[X.iloc[indices[0]]['index']])\n",
        "\n",
        "get_neighbors(predictor_df, 5400, 60)"
      ]
    },
    {
      "cell_type": "code",
      "execution_count": 76,
      "metadata": {
        "colab": {
          "base_uri": "https://localhost:8080/",
          "height": 470
        },
        "id": "wiPGDe_FQBtm",
        "outputId": "4b88a043-116f-49a6-db3f-e90536e19d37"
      },
      "outputs": [
        {
          "name": "stdout",
          "output_type": "stream",
          "text": [
            "hk shape (47327, 8)\n",
            "sleep shape (8255, 5)\n",
            "hk-sleep merged shape (51955, 11)\n",
            "selected cols ['heart_rate', 'distance_cycling', 'floors', 'steps', 'bed_time', 'active_calories', 'sleep_minutes', 'distance_walking', 'awake_count']\n",
            "Number of non-zero and not NaN values: 295697\n",
            "Number of rows with at least one non-zero and not NaN value: 51955\n",
            "--------------------------------------------------------------------------------\n",
            "hk-sleep shape (51955, 11)\n",
            "wo shape (4322, 4)\n",
            "hk-sleep-wo shape (52837, 13)\n",
            "selected cols ['wo_calories', 'heart_rate', 'distance_cycling', 'floors', 'steps', 'active_minutes', 'bed_time', 'active_calories', 'sleep_minutes', 'distance_walking', 'awake_count']\n",
            "Number of non-zero and not NaN values: 404567\n",
            "Number of rows with at least one non-zero and not NaN value: 52837\n",
            "--------------------------------------------------------------------------------\n",
            "MASTER MERGE - baseline\n",
            "baseline (hk-sleep-wo-bp merge) (10509, 15) \n",
            "\n",
            "selected cols ['wo_calories', 'heart_rate', 'distance_cycling', 'floors', 'steps', 'active_minutes', 'bed_time', 'active_calories', 'sleep_minutes', 'distance_walking', 'awake_count']\n",
            "Number of non-zero and not NaN values: 3403\n",
            "Number of rows with at least one non-zero and not NaN value: 1117\n",
            "--------------------------------------------------------------------------------\n",
            "AUGMENTATION - rolling k days\n",
            "augmented (10509, 15)\n",
            "augmented NON-ZERO values\n",
            "selected cols ['wo_calories', 'heart_rate', 'distance_cycling', 'floors', 'steps', 'active_minutes', 'bed_time', 'active_calories', 'sleep_minutes', 'distance_walking', 'awake_count']\n",
            "Number of non-zero and not NaN values: 3643\n",
            "Number of rows with at least one non-zero and not NaN value: 1147\n",
            "--------------------------------------------------------------------------------\n",
            "AUGMENTATION - knn impute\n",
            "imputed (10509, 15)\n",
            "imputed NON-ZERO values\n",
            "selected cols ['wo_calories', 'heart_rate', 'distance_cycling', 'floors', 'steps', 'active_minutes', 'bed_time', 'active_calories', 'sleep_minutes', 'distance_walking', 'awake_count']\n",
            "Number of non-zero and not NaN values: 3643\n",
            "Number of rows with at least one non-zero and not NaN value: 1147\n"
          ]
        },
        {
          "data": {
            "text/plain": [
              "'\\nRun second RF with top N most important features\\n'"
            ]
          },
          "execution_count": 76,
          "metadata": {},
          "output_type": "execute_result"
        }
      ],
      "source": [
        "from ast import Not\n",
        "from augmentations import rolling_k_days\n",
        "\n",
        "# Merge healthkit_df with sleep_df\n",
        "print('hk shape', hk.shape)\n",
        "print('sleep shape', sleep.shape)\n",
        "predictor_df = hk.merge(sleep, on=['healthCode', 'date'], how='outer')\n",
        "print('hk-sleep merged shape', predictor_df.shape)\n",
        "get_non_zero(predictor_df)\n",
        "print('--------------------------------------------------------------------------------')\n",
        "\n",
        "\n",
        "# Merge workout_df with merged (healthkit_df, sleep_df) --> predictor_df\n",
        "print('hk-sleep shape', predictor_df.shape)\n",
        "print('wo shape', wo.shape)\n",
        "predictor_df = predictor_df.merge(wo, on=['healthCode', 'date'], how='outer')\n",
        "# print number of unique date and user combinations in predictor\n",
        "print('hk-sleep-wo shape', predictor_df.shape)\n",
        "get_non_zero(predictor_df)\n",
        "print('--------------------------------------------------------------------------------')\n",
        "\n",
        "\n",
        "# MASTER MERGE - Merge with bp_df\n",
        "print('MASTER MERGE - baseline')\n",
        "baseline = master_merge(predictor_df, bp)\n",
        "baseline.fillna(0, inplace=True)\n",
        "print('baseline (hk-sleep-wo-bp merge)', baseline.shape, '\\n')\n",
        "get_non_zero(baseline)\n",
        "print('--------------------------------------------------------------------------------')\n",
        "\n",
        "k = 10\n",
        "print('AUGMENTATION - rolling k days')\n",
        "augmented = rolling_k_days(baseline, k)\n",
        "augmented.fillna(0, inplace=True)\n",
        "print('augmented', augmented.shape)\n",
        "print('augmented NON-ZERO values')\n",
        "get_non_zero(augmented)\n",
        "print('--------------------------------------------------------------------------------')\n",
        "\n",
        "print('AUGMENTATION - knn impute')\n",
        "imputed = knn_impute(augmented)\n",
        "imputed.fillna(0, inplace=True)\n",
        "print('imputed', imputed.shape)\n",
        "print('imputed NON-ZERO values')\n",
        "get_non_zero(imputed)\n",
        "\n",
        "\n",
        "\n",
        "\n",
        "# ADD HISTORICAL BP - Add BP historical variable to master df (1 period, 2 periods, 3 periods)\n",
        "'''\n",
        "Here is where we list the historical BP values for each row in master_df:\n",
        "select a period of k days. If k is more than 1, aggregate within the period via averaging\n",
        "then a number of periods from [1, 2, 3]\n",
        "periods should not overlap with each other\n",
        "'''\n",
        "\n",
        "\n",
        "\n",
        "# RUN RF - Implement RF on master_df with: 1) no agumentation, 2) k-roll agumentation, 3) knn_augmentation\n",
        "'''\n",
        "Implement one RF first\n",
        "'''\n",
        "\n",
        "\n",
        "'''\n",
        "Implement same RF with bootstraping\n",
        "'''\n",
        "\n",
        "\n",
        "'''\n",
        "Extract feature importances and select top N most important features\n",
        "'''\n",
        "\n",
        "\n",
        "'''\n",
        "Run second RF with top N most important features\n",
        "'''\n",
        "\n",
        "\n"
      ]
    },
    {
      "cell_type": "markdown",
      "metadata": {
        "id": "DygEtRF3rPGU"
      },
      "source": [
        "**Preparing data for training**"
      ]
    },
    {
      "cell_type": "code",
      "execution_count": 19,
      "metadata": {
        "id": "E1dvrIlWrR7o"
      },
      "outputs": [],
      "source": [
        "from sklearn.model_selection import train_test_split\n",
        "from sklearn.ensemble import RandomForestRegressor\n",
        "from sklearn.metrics import mean_squared_error, mean_absolute_error\n",
        "\n",
        "y_columns = ['diastolic', 'systolic']\n",
        "\n",
        "def data_split(df):\n",
        "  train, test = train_test_split(df, test_size=0.2)\n",
        "  y_train = train[y_columns]\n",
        "  y_test = test[y_columns]\n",
        "\n",
        "  x_train = train.drop(y_columns, axis=1)\n",
        "  x_test = test.drop(y_columns, axis=1)\n",
        "\n",
        "  return (x_train, y_train), (x_test, y_test)"
      ]
    },
    {
      "cell_type": "code",
      "execution_count": 20,
      "metadata": {
        "colab": {
          "base_uri": "https://localhost:8080/"
        },
        "id": "kx-Yg450rdhB",
        "outputId": "27da432d-6c14-4e36-e4f3-3dc2396d5f9d"
      },
      "outputs": [
        {
          "name": "stdout",
          "output_type": "stream",
          "text": [
            "Index(['healthCode', 'date', 'diastolic', 'systolic', 'distance_cycling',\n",
            "       'distance_walking', 'floors', 'active_calories', 'steps', 'heart_rate',\n",
            "       'sleep_minutes', 'awake_count', 'bed_time', 'active_minutes',\n",
            "       'wo_calories'],\n",
            "      dtype='object')\n",
            "Shape of baseline df with no NaN values:  (10509, 13)\n",
            "\n",
            "Performance scores of systolic prediction\n",
            "Mean squared error = 191.376\n",
            "Mean absolute error =  9.918\n",
            "\n",
            "Performance scores of diastolic prediction\n",
            "Mean squared error = 124.766\n",
            "Mean absolute error =  8.049\n"
          ]
        }
      ],
      "source": [
        "# RUN RF - Implement RF on master_df with: 1) no agumentation, 2) k-roll agumentation, 3) knn_augmentation\n",
        "'''\n",
        "Implement one RF first with no augmentation\n",
        "'''\n",
        "print(baseline.columns)\n",
        "angel_baseline_df = baseline.drop(['healthCode', 'date'], axis=1)\n",
        "angel_baseline_df = angel_baseline_df.dropna()\n",
        "print('Shape of baseline df with no NaN values: ' , angel_baseline_df.shape)\n",
        "(x_train, y_train), (x_test, y_test) = data_split(angel_baseline_df)\n",
        "\n",
        "def rfr_predict(target_col, ntrees=30):\n",
        "  model = RandomForestRegressor(n_estimators=ntrees)\n",
        "  model = model.fit(x_train, y_train[target_col])\n",
        "  pred = model.predict(x_test).round()\n",
        "  mse = mean_squared_error(pred,y_test[target_col])\n",
        "  mae = mean_absolute_error(pred,y_test[target_col])\n",
        "  return (mse, mae)\n",
        "\n",
        "#Predicting systolic BP using baseline df with non NaN values\n",
        "mse, mae = rfr_predict('systolic', ntrees=60)\n",
        "print(\"\\nPerformance scores of systolic prediction\")\n",
        "print('Mean squared error = {:5.3f}'.format(mse))\n",
        "print('Mean absolute error =  {:5.3f}'.format(mae))\n",
        "\n",
        "#Predicting diastolic BP using baseline df with non NaN values\n",
        "mse, mae = rfr_predict('diastolic')\n",
        "print(\"\\nPerformance scores of diastolic prediction\")\n",
        "print('Mean squared error = {:5.3f}'.format(mse))\n",
        "print('Mean absolute error =  {:5.3f}'.format(mae))\n"
      ]
    }
  ],
  "metadata": {
    "colab": {
      "include_colab_link": true,
      "provenance": []
    },
    "kernelspec": {
      "display_name": "Python 3",
      "name": "python3"
    },
    "language_info": {
      "codemirror_mode": {
        "name": "ipython",
        "version": 3
      },
      "file_extension": ".py",
      "mimetype": "text/x-python",
      "name": "python",
      "nbconvert_exporter": "python",
      "pygments_lexer": "ipython3",
      "version": "3.11.7"
    }
  },
  "nbformat": 4,
  "nbformat_minor": 0
}
