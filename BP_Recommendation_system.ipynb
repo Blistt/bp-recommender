{
  "cells": [
    {
      "cell_type": "markdown",
      "metadata": {},
      "source": [
        "**Load data**"
      ]
    },
    {
      "cell_type": "markdown",
      "metadata": {
        "colab_type": "text",
        "id": "view-in-github"
      },
      "source": [
        "<a href=\"https://colab.research.google.com/github/Blistt/bp-recommender/blob/Romasa/BP_Recommendation_system.ipynb\" target=\"_parent\"><img src=\"https://colab.research.google.com/assets/colab-badge.svg\" alt=\"Open In Colab\"/></a>"
      ]
    },
    {
      "cell_type": "code",
      "execution_count": 1,
      "metadata": {
        "id": "yhvxGLihuQYJ"
      },
      "outputs": [],
      "source": [
        "import pandas as pd\n",
        "path = 'data/'\n",
        "baseline = pd.read_csv(path + 'baseline.csv')\n",
        "augmented_k = pd.read_csv(path + 'augmented_k.csv')\n",
        "augmented_inter = pd.read_csv(path + 'augmented_inter.csv')\n",
        "augmented_intra = pd.read_csv(path + 'augmented_intra.csv')"
      ]
    },
    {
      "cell_type": "markdown",
      "metadata": {
        "id": "DygEtRF3rPGU"
      },
      "source": [
        "**Experiments with non-personalized model**"
      ]
    },
    {
      "cell_type": "code",
      "execution_count": 2,
      "metadata": {},
      "outputs": [
        {
          "name": "stdout",
          "output_type": "stream",
          "text": [
            "BASELINE - NO AUGMENTATION\n",
            "dataset size: 224, model: xgb, ntrees: 100, sys_mae: 10.25,\n",
            "           dias_mae: 8.192, top_n: awake_count; wo_calories; sleep_minutes; steps; active_calories, second run: False, bootstrap: True, \n",
            "           historical: True\n",
            "--------------------------------------------------------------------------------\n",
            "K-ROLL AUGMENTATION\n",
            "dataset size: 275, model: xgb, ntrees: 100, sys_mae: 10.273,\n",
            "           dias_mae: 8.029, top_n: awake_count; wo_calories; steps; bed_time; active_calories, second run: False, bootstrap: True, \n",
            "           historical: True\n",
            "--------------------------------------------------------------------------------\n",
            "KNN INTRA AUGMENTATION\n",
            "dataset size: 224, model: xgb, ntrees: 100, sys_mae: 10.625,\n",
            "           dias_mae: 7.183, top_n: awake_count; wo_calories; bed_time; steps; active_calories, second run: False, bootstrap: True, \n",
            "           historical: True\n",
            "--------------------------------------------------------------------------------\n",
            "KNN INTER AUGMENTATION\n",
            "dataset size: 224, model: xgb, ntrees: 100, sys_mae: 10.491,\n",
            "           dias_mae: 8.522, top_n: steps; wo_calories; awake_count; sleep_minutes; bed_time, second run: False, bootstrap: True, \n",
            "           historical: True\n",
            "--------------------------------------------------------------------------------\n"
          ]
        }
      ],
      "source": [
        "from trainers.train_nonpersonalized import train_nonpersonazlied\n",
        "\n",
        "############################################# MODEL PARAMETERS #############################################\n",
        "N = 5                               # Number of most important features to display\n",
        "model = 'xgb'                       # rf or xgb (Random Forest or XGBoost)\n",
        "ntrees = 100                         # Number of trees in the forest\n",
        "second_run = False                  # Whether to use a second run with top N features or not\n",
        "bootstrap = True                    # Whether to use bootstrap samples\n",
        "bootstrap_size = 0.8                # Portion of the dataset to sample for bootstrap\n",
        "historical = True                  # Whether to use historical BP or not\n",
        "\n",
        "############################################# DATASAET PARAMETERS #############################################\n",
        "key = ['healthCode', 'date']        # Columns to use as key\n",
        "target = ['systolic', 'diastolic']  # Columns to predict\n",
        "log_path = 'exp_log.csv'            # Path of file to log experiment results\n",
        "\n",
        "\n",
        "############################################# EXPERIMENTS #############################################\n",
        "# Predicting systolic BP using baseline with non NaN values\n",
        "print('BASELINE - NO AUGMENTATION')\n",
        "dataset = baseline\n",
        "aug = 'None'\n",
        "train_nonpersonazlied(dataset, model, ntrees, N, key, target, log_path=log_path, second_run=second_run, \n",
        "           bootstrap=bootstrap, bootstrap_size=bootstrap_size, aug=aug, historical=historical)\n",
        "print('--------------------------------------------------------------------------------')\n",
        "\n",
        "# Predicting systolic BP using k-roll augmentation with non NaN values\n",
        "print('K-ROLL AUGMENTATION')\n",
        "dataset = augmented_k\n",
        "aug = 'K-roll'\n",
        "train_nonpersonazlied(dataset, model, ntrees, N, key, target, log_path=log_path, second_run=second_run,\n",
        "           bootstrap=bootstrap, bootstrap_size=bootstrap_size, aug=aug, historical=historical)\n",
        "print('--------------------------------------------------------------------------------')\n",
        "\n",
        "\n",
        "# Predicting systolic BP using knn intra augmentation with non NaN values\n",
        "print('KNN INTRA AUGMENTATION')\n",
        "dataset = augmented_intra\n",
        "aug = 'KNN-intra'\n",
        "train_nonpersonazlied(dataset, model, ntrees, N, key, target, log_path=log_path, second_run=second_run,\n",
        "           bootstrap=bootstrap, bootstrap_size=bootstrap_size, aug=aug, historical=historical)\n",
        "print('--------------------------------------------------------------------------------')\n",
        "\n",
        "\n",
        "# Predicting systolic BP using knn inter augmentation with non NaN values\n",
        "print('KNN INTER AUGMENTATION')\n",
        "dataset = augmented_inter\n",
        "aug = 'KNN-inter'\n",
        "train_nonpersonazlied(dataset, model, ntrees, N, key, target, log_path=log_path, second_run=second_run,\n",
        "           bootstrap=bootstrap, bootstrap_size=bootstrap_size, aug=aug, historical=historical)\n",
        "print('--------------------------------------------------------------------------------')\n"
      ]
    },
    {
      "cell_type": "markdown",
      "metadata": {},
      "source": [
        "**Experiments with personalized model**"
      ]
    },
    {
      "cell_type": "code",
      "execution_count": 3,
      "metadata": {},
      "outputs": [
        {
          "name": "stdout",
          "output_type": "stream",
          "text": [
            "BASELINE - NO AUGMENTATION\n",
            "dataset size: 193, model: xgb, ntrees: 100, sys_mae: 15.0,\n",
            "           dias_mae: 1.0, top_n: N/A, second run: False, bootstrap: True, \n",
            "           historical: True\n",
            "--------------------------------------------------------------------------------\n",
            "K-ROLL AUGMENTATION\n",
            "dataset size: 245, model: xgb, ntrees: 100, sys_mae: 9.0,\n",
            "           dias_mae: 2.0, top_n: N/A, second run: False, bootstrap: True, \n",
            "           historical: True\n",
            "--------------------------------------------------------------------------------\n",
            "KNN INTRA AUGMENTATION\n",
            "dataset size: 193, model: xgb, ntrees: 100, sys_mae: 12.19,\n",
            "           dias_mae: 7.357, top_n: N/A, second run: False, bootstrap: True, \n",
            "           historical: True\n",
            "--------------------------------------------------------------------------------\n",
            "KNN INTER AUGMENTATION\n",
            "dataset size: 193, model: xgb, ntrees: 100, sys_mae: 9.713,\n",
            "           dias_mae: 7.831, top_n: N/A, second run: False, bootstrap: True, \n",
            "           historical: True\n",
            "--------------------------------------------------------------------------------\n"
          ]
        }
      ],
      "source": [
        "from trainers.train_personalized import train_personalized\n",
        "\n",
        "############################################# PARAMETERS #############################################\n",
        "N = 5                               # Number of most important features to display\n",
        "ntrees = 100                         # Number of trees in the forest\n",
        "bootstrap = True                    # Whether to use bootstrap samples\n",
        "bootstrap_size = 0.8                # Portion of the dataset to sample for bootstrap\n",
        "key = ['healthCode', 'date']        # Columns to use as key\n",
        "target = ['systolic', 'diastolic']  # Columns to predict\n",
        "log_path = 'exp_log.csv'            # Path of file to log experiment results\n",
        "historical = True                  # Whether to use historical BP or not\n",
        "\n",
        "\n",
        "############################################# EXPERIMENTS #############################################\n",
        "# Predicting BP using baseline with non NaN values\n",
        "print('BASELINE - NO AUGMENTATION')\n",
        "aug = 'None'\n",
        "dataset = baseline\n",
        "train_personalized(dataset, 'xgb', ntrees, N, key, target, log_path=log_path, bootstrap=bootstrap, \n",
        "                        bootstrap_size=bootstrap_size, aug=aug, historical=historical)\n",
        "print('--------------------------------------------------------------------------------')\n",
        "\n",
        "# Predicting BP using k-roll augmentation with non NaN values\n",
        "print('K-ROLL AUGMENTATION')\n",
        "dataset = augmented_k\n",
        "aug = 'K-roll'\n",
        "train_personalized(dataset, 'xgb', ntrees, N, key, target, log_path=log_path, bootstrap=bootstrap, \n",
        "                        bootstrap_size=bootstrap_size, aug=aug, historical=historical)\n",
        "print('--------------------------------------------------------------------------------')\n",
        "\n",
        "\n",
        "# Predicting BP using knn intra augmentation with non NaN values\n",
        "print('KNN INTRA AUGMENTATION')\n",
        "dataset = augmented_intra\n",
        "aug = 'KNN-intra'\n",
        "train_personalized(dataset, 'xgb', ntrees, N, key, target, log_path=log_path, bootstrap=bootstrap, \n",
        "                        bootstrap_size=bootstrap_size, aug=aug, historical=historical)\n",
        "print('--------------------------------------------------------------------------------')\n",
        "\n",
        "\n",
        "# Predicting BP using knn inter augmentation with non NaN values\n",
        "print('KNN INTER AUGMENTATION')\n",
        "dataset = augmented_inter\n",
        "aug = 'KNN-inter'\n",
        "train_personalized(dataset, 'xgb', ntrees, N, key, target, log_path=log_path, bootstrap=bootstrap, \n",
        "                        bootstrap_size=bootstrap_size, aug=aug, historical=historical)\n",
        "print('--------------------------------------------------------------------------------')\n"
      ]
    },
    {
      "cell_type": "code",
      "execution_count": 5,
      "metadata": {},
      "outputs": [
        {
          "name": "stdout",
          "output_type": "stream",
          "text": [
            "Predicted value: [139.04291]\n",
            "Predicted value: [89.75199]\n",
            "Weighted correction: [6.734179]\n",
            "\n",
            " Recommendations:\n",
            "Activity: active_calories  -   Value: 0.0   -  imp_score: 0.09586142748594284-  Rec: 0.0\n",
            "Activity: awake_count  -   Value: 2.0   -  imp_score: 0.09347192943096161-  Rec: 0.18694385886192322\n",
            "Activity: sleep_minutes  -   Value: 367.0   -  imp_score: 0.09103571623563766-  Rec: 33.41010785847902\n",
            "Activity: bed_time  -   Value: 36.03333333333333   -  imp_score: 0.08908497542142868-  Rec: 3.210028614352147\n",
            "Activity: wo_calories  -   Value: 0.0   -  imp_score: 0.06027833744883537-  Rec: 0.0\n",
            "\n",
            " Target user training entries:\n",
            "                               healthCode        date  distance_cycling  \\\n",
            "99   3d9522ed-bc28-485a-a4ad-27b4d94343b4  2015-07-28               0.0   \n",
            "100  3d9522ed-bc28-485a-a4ad-27b4d94343b4  2015-07-24               0.0   \n",
            "101  3d9522ed-bc28-485a-a4ad-27b4d94343b4  2015-07-26               0.0   \n",
            "\n",
            "     distance_walking  floors  active_calories    steps  heart_rate  \\\n",
            "99                0.0     0.0              0.0      0.0    1.042852   \n",
            "100            7305.0     0.0              0.0   9614.0    1.588026   \n",
            "101            7830.0     0.0              0.0  10269.0    1.093392   \n",
            "\n",
            "     sleep_minutes  awake_count    bed_time  active_minutes  wo_calories  \\\n",
            "99      356.992644     3.896384  121.056876             0.0   194.000001   \n",
            "100     367.000656     1.999985   36.032826             0.0     0.000000   \n",
            "101     372.273706     1.000000  741.841472             0.0   301.379868   \n",
            "\n",
            "     systolic_hist  diastolic_hist  systolic  diastolic  \n",
            "99      136.993197       86.997240     137.0         87  \n",
            "100     121.642559       80.769969     137.0         87  \n",
            "101     136.984135       86.993564     137.0         87  \n"
          ]
        }
      ],
      "source": [
        "from recommenders.per_recommender import get_per_recommendations\n",
        "# Get recommendations for one of the users in the testing set\n",
        "entry = 26                          # Choose from 0 to 58\n",
        "n = 5                               # Number of most important features to display\n",
        "var_adjust = False                  # Whether to adjust recs according to total variance explained or not\n",
        "verbose = True                      # Whether to print the recommendations and list of training entries for the user\n",
        "key = ['healthCode', 'date']        # Columns to use as key\n",
        "target = ['systolic', 'diastolic']  # Columns to predict\n",
        "\n",
        "recs = get_per_recommendations(entry, key, target, n=n, var_adjust=var_adjust, verbose=verbose)"
      ]
    },
    {
      "cell_type": "code",
      "execution_count": 4,
      "metadata": {},
      "outputs": [
        {
          "name": "stdout",
          "output_type": "stream",
          "text": [
            "Predicted value: [130.96594]\n",
            "Predicted value: [85.26246]\n",
            "Weighted correction: [3.7719262]\n",
            "\n",
            " Recommendations:\n",
            "Activity: steps  -   Value: 7000.0   -  imp_score: 0.09366404265165329-  Rec: 655.648298561573\n",
            "Activity: wo_calories  -   Value: 0.0   -  imp_score: 0.08854963630437851-  Rec: 0.0\n",
            "Activity: awake_count  -   Value: 0.0   -  imp_score: 0.08681640028953552-  Rec: 0.0\n",
            "Activity: sleep_minutes  -   Value: 300.0   -  imp_score: 0.08606331795454025-  Rec: 25.818995386362076\n",
            "Activity: bed_time  -   Value: 0.0   -  imp_score: 0.07801978290081024-  Rec: 0.0\n"
          ]
        },
        {
          "data": {
            "text/plain": [
              "{'steps': 0    655.648299\n",
              " Name: steps, dtype: float64,\n",
              " 'wo_calories': 0    0.0\n",
              " Name: wo_calories, dtype: float64,\n",
              " 'awake_count': 0    0.0\n",
              " Name: awake_count, dtype: float64,\n",
              " 'sleep_minutes': 0    25.818995\n",
              " Name: sleep_minutes, dtype: float64,\n",
              " 'bed_time': 0    0.0\n",
              " Name: bed_time, dtype: float64}"
            ]
          },
          "execution_count": 4,
          "metadata": {},
          "output_type": "execute_result"
        }
      ],
      "source": [
        "import pandas as pd\n",
        "from recommenders.nonper_recommender import get_nonper_recommendations\n",
        "\n",
        "distance_cycling = 0.0\n",
        "distance_walking = 0.0\n",
        "floors = 20.0\n",
        "active_calories = 300.0\n",
        "steps = 7000.0\n",
        "heart_rate = 0.0\n",
        "sleep_minutes = 300.0\n",
        "awake_count = 0.0\n",
        "bed_time = 0.0\n",
        "active_minutes = 0.0\n",
        "wo_calories = 0.0\n",
        "systolic_hist = 140.0\n",
        "diastolic_hist = 80.0\n",
        "\n",
        "entry = [distance_cycling, distance_walking, floors, active_calories, steps, heart_rate,\n",
        "         sleep_minutes, awake_count, bed_time, active_minutes, wo_calories, systolic_hist, diastolic_hist]\n",
        "keys = ['distance_cycling', 'distance_walking', 'floors', 'active_calories', 'steps', 'heart_rate',\n",
        "        'sleep_minutes', 'awake_count', 'bed_time', 'active_minutes', 'wo_calories', 'systolic_hist', 'diastolic_hist']\n",
        "entry_dict = dict(zip(keys, entry))\n",
        "entry_df = pd.DataFrame([entry_dict])\n",
        "\n",
        "key = ['healthCode', 'date']\n",
        "target = ['systolic', 'diastolic']\n",
        "n = 5\n",
        "\n",
        "get_nonper_recommendations(entry_df, key, target, n=n, var_adjust=False, verbose=True)"
      ]
    }
  ],
  "metadata": {
    "colab": {
      "include_colab_link": true,
      "provenance": []
    },
    "kernelspec": {
      "display_name": "Python 3",
      "name": "python3"
    },
    "language_info": {
      "codemirror_mode": {
        "name": "ipython",
        "version": 3
      },
      "file_extension": ".py",
      "mimetype": "text/x-python",
      "name": "python",
      "nbconvert_exporter": "python",
      "pygments_lexer": "ipython3",
      "version": "3.11.7"
    }
  },
  "nbformat": 4,
  "nbformat_minor": 0
}
