{
  "cells": [
    {
      "cell_type": "markdown",
      "metadata": {
        "colab_type": "text",
        "id": "view-in-github"
      },
      "source": [
        "<a href=\"https://colab.research.google.com/github/Blistt/bp-recommender/blob/Romasa/BP_Recommendation_system.ipynb\" target=\"_parent\"><img src=\"https://colab.research.google.com/assets/colab-badge.svg\" alt=\"Open In Colab\"/></a>"
      ]
    },
    {
      "cell_type": "code",
      "execution_count": 1,
      "metadata": {
        "id": "yhvxGLihuQYJ"
      },
      "outputs": [],
      "source": [
        "import pandas as pd\n",
        "path = 'data/'\n",
        "baseline = pd.read_csv(path + 'baseline.csv')\n",
        "augmented_k = pd.read_csv(path + 'augmented_k.csv')\n",
        "augmented_inter = pd.read_csv(path + 'augmented_inter.csv')\n",
        "augmented_intra = pd.read_csv(path + 'augmented_intra.csv')"
      ]
    },
    {
      "cell_type": "markdown",
      "metadata": {},
      "source": [
        "**Load data**"
      ]
    },
    {
      "cell_type": "markdown",
      "metadata": {
        "id": "DygEtRF3rPGU"
      },
      "source": [
        "**Get Top N features as well as error measures with RF model**"
      ]
    },
    {
      "cell_type": "code",
      "execution_count": 5,
      "metadata": {},
      "outputs": [
        {
          "name": "stdout",
          "output_type": "stream",
          "text": [
            "BASELINE - NO AUGMENTATION\n",
            "Performance scores of systolic prediction\n",
            "Mean squared error = 132.500\n",
            "Mean absolute error =  9.000\n",
            "Performance scores of diastolic prediction\n",
            "Mean squared error = 18.500\n",
            "Mean absolute error =  3.000\n",
            "Top N most important features [('floors', 0.2508107015382505), ('distance_walking', 0.15800512273849246), ('bed_time', 0.08509880853805243), ('steps', 0.07558858891288298), ('sleep_minutes', 0.061433660759464624)]\n",
            "--------------------------------------------------------------------------------\n",
            "K-ROLL AUGMENTATION\n",
            "Performance scores of systolic prediction\n",
            "Mean squared error = 91.500\n",
            "Mean absolute error =  7.750\n",
            "Performance scores of diastolic prediction\n",
            "Mean squared error = 69.250\n",
            "Mean absolute error =  7.500\n",
            "Top N most important features [('floors', 0.15707207402561252), ('Unnamed: 0', 0.1314570338450927), ('wo_calories', 0.12774569291893734), ('sleep_minutes', 0.11217807704846527), ('distance_walking', 0.10361041424965249)]\n",
            "--------------------------------------------------------------------------------\n",
            "KNN INTRA AUGMENTATION\n",
            "Performance scores of systolic prediction\n",
            "Mean squared error = 91.000\n",
            "Mean absolute error =  7.903\n",
            "Performance scores of diastolic prediction\n",
            "Mean squared error = 41.290\n",
            "Mean absolute error =  5.419\n",
            "Top N most important features [('wo_calories', 0.2024748107123457), ('Unnamed: 0', 0.19925589893156126), ('sleep_minutes', 0.11069854798154348), ('steps', 0.08099690550813843), ('bed_time', 0.07055143531625366)]\n",
            "--------------------------------------------------------------------------------\n",
            "KNN INTER AUGMENTATION\n",
            "Performance scores of systolic prediction\n",
            "Mean squared error = 159.719\n",
            "Mean absolute error =  9.085\n",
            "Performance scores of diastolic prediction\n",
            "Mean squared error = 82.473\n",
            "Mean absolute error =  7.188\n",
            "Top N most important features [('Unnamed: 0', 0.1559113744372395), ('wo_calories', 0.1414966083676461), ('sleep_minutes', 0.13801204262205746), ('bed_time', 0.13495475152067116), ('steps', 0.11884753795574993)]\n",
            "--------------------------------------------------------------------------------\n"
          ]
        }
      ],
      "source": [
        "# Run RF on master_df with no agumentation\n",
        "from bp_predictor import BloodPresurePredictor\n",
        "from utils import log_exp\n",
        "\n",
        "\n",
        "############################################# PARAMETERS #############################################\n",
        "N = 5       # Number of most important features to display\n",
        "model = 'rf'    # rf or xgb (Random Forest or XGBoost)\n",
        "ntrees = 60     # Number of trees in the forest\n",
        "\n",
        "log_path = 'exp_log.csv'    # Path of file to log experiment results\n",
        "\n",
        "\n",
        "############################################# EXPERIMENTS #############################################\n",
        "# Predicting systolic BP using baseline with non NaN values\n",
        "print('BASELINE - NO AUGMENTATION')\n",
        "bp_predictor = BloodPresurePredictor(model, ntrees)\n",
        "bp_predictor.predict(baseline)\n",
        "print(\"Performance scores of systolic prediction\")\n",
        "print('Mean squared error = {:5.3f}'.format(bp_predictor.mse['systolic']))\n",
        "print('Mean absolute error =  {:5.3f}'.format(bp_predictor.mae['systolic']))\n",
        "# Predicting diastolic BP using baseline with non NaN values\n",
        "print(\"Performance scores of diastolic prediction\")\n",
        "print('Mean squared error = {:5.3f}'.format(bp_predictor.mse['diastolic']))\n",
        "print('Mean absolute error =  {:5.3f}'.format(bp_predictor.mae['diastolic']))\n",
        "print('Top N most important features', bp_predictor.feature_importances[:N])\n",
        "log_exp(log_path, bp_predictor, aug='None', N=N)\n",
        "print('--------------------------------------------------------------------------------')\n",
        "\n",
        "# Predicting systolic BP using k-roll augmentation with non NaN values\n",
        "print('K-ROLL AUGMENTATION')\n",
        "bp_predictor = BloodPresurePredictor(model, ntrees)\n",
        "bp_predictor.predict(augmented_k)\n",
        "print(\"Performance scores of systolic prediction\")\n",
        "print('Mean squared error = {:5.3f}'.format(bp_predictor.mse['systolic']))\n",
        "print('Mean absolute error =  {:5.3f}'.format(bp_predictor.mae['systolic']))\n",
        "# Predicting diastolic BP using k-roll augmentation with non NaN values\n",
        "print(\"Performance scores of diastolic prediction\")\n",
        "print('Mean squared error = {:5.3f}'.format(bp_predictor.mse['diastolic']))\n",
        "print('Mean absolute error =  {:5.3f}'.format(bp_predictor.mae['diastolic']))\n",
        "print('Top N most important features', bp_predictor.feature_importances[:N])\n",
        "log_exp(log_path, bp_predictor, aug='K-roll', N=N)\n",
        "print('--------------------------------------------------------------------------------')\n",
        "\n",
        "\n",
        "# Predicting systolic BP using knn intra augmentation with non NaN values\n",
        "print('KNN INTRA AUGMENTATION')\n",
        "bp_predictor = BloodPresurePredictor(model, ntrees)\n",
        "bp_predictor.predict(augmented_intra)\n",
        "print(\"Performance scores of systolic prediction\")\n",
        "print('Mean squared error = {:5.3f}'.format(bp_predictor.mse['systolic']))\n",
        "print('Mean absolute error =  {:5.3f}'.format(bp_predictor.mae['systolic']))\n",
        "# Predicting diastolic BP using knn intra augmentation with non NaN values\n",
        "print(\"Performance scores of diastolic prediction\")\n",
        "print('Mean squared error = {:5.3f}'.format(bp_predictor.mse['diastolic']))\n",
        "print('Mean absolute error =  {:5.3f}'.format(bp_predictor.mae['diastolic']))\n",
        "print('Top N most important features', bp_predictor.feature_importances[:N])\n",
        "log_exp(log_path, bp_predictor, aug='KNN-intra', N=N)\n",
        "print('--------------------------------------------------------------------------------')\n",
        "\n",
        "\n",
        "# Predicting systolic BP using knn inter augmentation with non NaN values\n",
        "print('KNN INTER AUGMENTATION')\n",
        "bp_predictor = BloodPresurePredictor(model, ntrees)\n",
        "bp_predictor.predict(augmented_inter)\n",
        "print(\"Performance scores of systolic prediction\")\n",
        "print('Mean squared error = {:5.3f}'.format(bp_predictor.mse['systolic']))\n",
        "print('Mean absolute error =  {:5.3f}'.format(bp_predictor.mae['systolic']))\n",
        "# Predicting diastolic BP using knn inter augmentation with non NaN values\n",
        "print(\"Performance scores of diastolic prediction\")\n",
        "print('Mean squared error = {:5.3f}'.format(bp_predictor.mse['diastolic']))\n",
        "print('Mean absolute error =  {:5.3f}'.format(bp_predictor.mae['diastolic']))\n",
        "print('Top N most important features', bp_predictor.feature_importances[:N])\n",
        "log_exp(log_path, bp_predictor, aug='KNN-inter', N=N)\n",
        "print('--------------------------------------------------------------------------------')"
      ]
    },
    {
      "cell_type": "code",
      "execution_count": null,
      "metadata": {},
      "outputs": [
        {
          "data": {
            "text/plain": [
              "'\\nHere is where we list the historical BP values for each row in master_df:\\nselect a period of k days. If k is more than 1, aggregate within the period via averaging\\nthen a number of periods from [1, 2, 3]\\nperiods should not overlap with each other\\n'"
            ]
          },
          "execution_count": 10,
          "metadata": {},
          "output_type": "execute_result"
        }
      ],
      "source": [
        "# OPTIONAL - ADD HISTORICAL BP - Add BP historical variable to master df (1 period, 2 periods, 3 periods)\n",
        "'''\n",
        "Here is where we list the historical BP values for each row in master_df:\n",
        "select a period of k days. If k is more than 1, aggregate within the period via averaging\n",
        "then a number of periods from [1, 2, 3]\n",
        "periods should not overlap with each other\n",
        "'''"
      ]
    }
  ],
  "metadata": {
    "colab": {
      "include_colab_link": true,
      "provenance": []
    },
    "kernelspec": {
      "display_name": "Python 3",
      "name": "python3"
    },
    "language_info": {
      "codemirror_mode": {
        "name": "ipython",
        "version": 3
      },
      "file_extension": ".py",
      "mimetype": "text/x-python",
      "name": "python",
      "nbconvert_exporter": "python",
      "pygments_lexer": "ipython3",
      "version": "3.11.7"
    }
  },
  "nbformat": 4,
  "nbformat_minor": 0
}
