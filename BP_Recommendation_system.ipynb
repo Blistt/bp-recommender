{
  "cells": [
    {
      "cell_type": "markdown",
      "metadata": {},
      "source": [
        "**Load data**"
      ]
    },
    {
      "cell_type": "markdown",
      "metadata": {
        "colab_type": "text",
        "id": "view-in-github"
      },
      "source": [
        "<a href=\"https://colab.research.google.com/github/Blistt/bp-recommender/blob/Romasa/BP_Recommendation_system.ipynb\" target=\"_parent\"><img src=\"https://colab.research.google.com/assets/colab-badge.svg\" alt=\"Open In Colab\"/></a>"
      ]
    },
    {
      "cell_type": "code",
      "execution_count": 1,
      "metadata": {
        "id": "yhvxGLihuQYJ"
      },
      "outputs": [],
      "source": [
        "import pandas as pd\n",
        "path = 'data/'\n",
        "baseline = pd.read_csv(path + 'baseline.csv')\n",
        "augmented_k = pd.read_csv(path + 'augmented_k.csv')\n",
        "augmented_inter = pd.read_csv(path + 'augmented_inter.csv')\n",
        "augmented_intra = pd.read_csv(path + 'augmented_intra.csv')"
      ]
    },
    {
      "cell_type": "code",
      "execution_count": 2,
      "metadata": {},
      "outputs": [],
      "source": [
        "from bp_predictor import BloodPresurePredictor\n",
        "from utils import log_exp\n",
        "\n",
        "def experiment(dataset, model, ntrees, N, key, target, double_run=False, log_path='', bootstrap_iter=0, bootstrap_size=0.8, aug='None'):\n",
        "    # First run with all features (either bootstrapped or not)\n",
        "    bp_predictor = BloodPresurePredictor(model, ntrees)\n",
        "    if bootstrap_iter > 0:\n",
        "        bp_predictor.bootstrap(dataset, bootstrap_iter, bootstrap_size)\n",
        "    else:\n",
        "        bp_predictor.predict(dataset)\n",
        "    log_exp(log_path, bp_predictor, aug='None', N=N, double=False, bootstrap=(bootstrap_iter>0))     # log results\n",
        "    \n",
        "    # Second run with top N features\n",
        "    top_n = list(bp_predictor.feature_importances.keys())[:N]       # get top N features from dict \n",
        "    cols = key + top_n + target                                     # add key and target columns\n",
        "    bp_predictor.predict(dataset[cols])                             # predict with top N features\n",
        "    log_exp(log_path, bp_predictor, aug='None', N=N, double=True, bootstrap=(bootstrap_iter>0))   # log results"
      ]
    },
    {
      "cell_type": "markdown",
      "metadata": {
        "id": "DygEtRF3rPGU"
      },
      "source": [
        "**Get Top N features as well as error measures with RF model** - without Bootstraping"
      ]
    },
    {
      "cell_type": "code",
      "execution_count": 3,
      "metadata": {},
      "outputs": [
        {
          "name": "stdout",
          "output_type": "stream",
          "text": [
            "BASELINE - NO AUGMENTATION\n",
            "aug:, None, dataset size: 17, model: rf, ntrees: 60, sys_mae: 7.0, dias_mae: 8.25, \n",
            "          top_n: floors,distance_walking,bed_time,active_calories,wo_calories, double run: False, bootstrap: False\n",
            "aug:, None, dataset size: 17, model: rf, ntrees: 60, sys_mae: 13.75, dias_mae: 13.25, \n",
            "          top_n: distance_walking,wo_calories,active_calories,bed_time,floors, double run: True, bootstrap: False\n",
            "--------------------------------------------------------------------------------\n",
            "K-ROLL AUGMENTATION\n",
            "aug:, None, dataset size: 40, model: rf, ntrees: 60, sys_mae: 11.75, dias_mae: 8.25, \n",
            "          top_n: sleep_minutes,distance_walking,active_calories,wo_calories,floors, double run: False, bootstrap: False\n",
            "aug:, None, dataset size: 40, model: rf, ntrees: 60, sys_mae: 7.625, dias_mae: 5.375, \n",
            "          top_n: wo_calories,sleep_minutes,floors,active_calories,distance_walking, double run: True, bootstrap: False\n",
            "--------------------------------------------------------------------------------\n",
            "KNN INTRA AUGMENTATION\n",
            "aug:, None, dataset size: 155, model: rf, ntrees: 60, sys_mae: 6.226, dias_mae: 5.226, \n",
            "          top_n: wo_calories,steps,sleep_minutes,bed_time,floors, double run: False, bootstrap: False\n",
            "aug:, None, dataset size: 155, model: rf, ntrees: 60, sys_mae: 7.677, dias_mae: 6.258, \n",
            "          top_n: wo_calories,steps,bed_time,sleep_minutes,floors, double run: True, bootstrap: False\n",
            "--------------------------------------------------------------------------------\n",
            "KNN INTER AUGMENTATION\n",
            "aug:, None, dataset size: 1120, model: rf, ntrees: 60, sys_mae: 10.746, dias_mae: 7.406, \n",
            "          top_n: wo_calories,sleep_minutes,bed_time,steps,distance_walking, double run: False, bootstrap: False\n",
            "aug:, None, dataset size: 1120, model: rf, ntrees: 60, sys_mae: 9.848, dias_mae: 7.661, \n",
            "          top_n: sleep_minutes,wo_calories,bed_time,steps,distance_walking, double run: True, bootstrap: False\n",
            "--------------------------------------------------------------------------------\n"
          ]
        }
      ],
      "source": [
        "# Run RF on master_df with no agumentation\n",
        "from bp_predictor import BloodPresurePredictor\n",
        "from utils import log_exp\n",
        "\n",
        "\n",
        "############################################# PARAMETERS #############################################\n",
        "N = 5                               # Number of most important features to display\n",
        "model = 'rf'                        # rf or xgb (Random Forest or XGBoost)\n",
        "ntrees = 60                         # Number of trees in the forest\n",
        "double_run = False                  # Whether to use a second run with top N features or not\n",
        "bootstrap = False                   # Whether to use bootstrap samples\n",
        "bootstrap_iter = 0                # Number of bootstrap iterations\n",
        "bootstrap_size = 0.8                # Size of bootstrap samples\n",
        "key = ['healthCode', 'date']        # Columns to use as key\n",
        "target = ['systolic', 'diastolic']  # Columns to predict\n",
        "log_path = 'exp_log.csv'            # Path of file to log experiment results\n",
        "\n",
        "\n",
        "############################################# EXPERIMENTS #############################################\n",
        "# Predicting systolic BP using baseline with non NaN values\n",
        "print('BASELINE - NO AUGMENTATION')\n",
        "dataset = baseline\n",
        "aug = 'None'\n",
        "experiment(dataset, model, ntrees, N, key, target, double_run=double_run, log_path=log_path, \n",
        "           bootstrap_iter=bootstrap_iter, bootstrap_size=bootstrap_size, aug=aug)\n",
        "print('--------------------------------------------------------------------------------')\n",
        "\n",
        "# Predicting systolic BP using k-roll augmentation with non NaN values\n",
        "print('K-ROLL AUGMENTATION')\n",
        "dataset = augmented_k\n",
        "aug = 'None'\n",
        "experiment(dataset, model, ntrees, N, key, target, double_run=double_run, log_path=log_path, \n",
        "           bootstrap_iter=bootstrap_iter, bootstrap_size=bootstrap_size, aug=aug)\n",
        "print('--------------------------------------------------------------------------------')\n",
        "\n",
        "\n",
        "# Predicting systolic BP using knn intra augmentation with non NaN values\n",
        "print('KNN INTRA AUGMENTATION')\n",
        "dataset = augmented_intra\n",
        "aug = 'None'\n",
        "experiment(dataset, model, ntrees, N, key, target, double_run=double_run, log_path=log_path, \n",
        "           bootstrap_iter=bootstrap_iter, bootstrap_size=bootstrap_size, aug=aug)\n",
        "print('--------------------------------------------------------------------------------')\n",
        "\n",
        "\n",
        "# Predicting systolic BP using knn inter augmentation with non NaN values\n",
        "print('KNN INTER AUGMENTATION')\n",
        "dataset = augmented_inter\n",
        "aug = 'None'\n",
        "experiment(dataset, model, ntrees, N, key, target, double_run=double_run, log_path=log_path, \n",
        "           bootstrap_iter=bootstrap_iter, bootstrap_size=bootstrap_size, aug=aug)\n",
        "print('--------------------------------------------------------------------------------')"
      ]
    },
    {
      "cell_type": "code",
      "execution_count": 4,
      "metadata": {},
      "outputs": [
        {
          "data": {
            "text/plain": [
              "'\\nHere is where we list the historical BP values for each row in master_df:\\nselect a period of k days. If k is more than 1, aggregate within the period via averaging\\nthen a number of periods from [1, 2, 3]\\nperiods should not overlap with each other\\n'"
            ]
          },
          "execution_count": 4,
          "metadata": {},
          "output_type": "execute_result"
        }
      ],
      "source": [
        "# OPTIONAL - ADD HISTORICAL BP - Add BP historical variable to master df (1 period, 2 periods, 3 periods)\n",
        "'''\n",
        "Here is where we list the historical BP values for each row in master_df:\n",
        "select a period of k days. If k is more than 1, aggregate within the period via averaging\n",
        "then a number of periods from [1, 2, 3]\n",
        "periods should not overlap with each other\n",
        "'''"
      ]
    }
  ],
  "metadata": {
    "colab": {
      "include_colab_link": true,
      "provenance": []
    },
    "kernelspec": {
      "display_name": "Python 3",
      "name": "python3"
    },
    "language_info": {
      "codemirror_mode": {
        "name": "ipython",
        "version": 3
      },
      "file_extension": ".py",
      "mimetype": "text/x-python",
      "name": "python",
      "nbconvert_exporter": "python",
      "pygments_lexer": "ipython3",
      "version": "3.11.7"
    }
  },
  "nbformat": 4,
  "nbformat_minor": 0
}
