{
  "cells": [
    {
      "cell_type": "markdown",
      "metadata": {
        "colab_type": "text",
        "id": "view-in-github"
      },
      "source": [
        "<a href=\"https://colab.research.google.com/github/Blistt/bp-recommender/blob/main/BP_Recommendation_system.ipynb\" target=\"_parent\"><img src=\"https://colab.research.google.com/assets/colab-badge.svg\" alt=\"Open In Colab\"/></a>"
      ]
    },
    {
      "cell_type": "markdown",
      "metadata": {
        "id": "SEGAEuRb_-r9"
      },
      "source": [
        "##Important library install and connection"
      ]
    },
    {
      "cell_type": "code",
      "execution_count": 2,
      "metadata": {
        "id": "yhvxGLihuQYJ"
      },
      "outputs": [],
      "source": [
        "path = 'data/'"
      ]
    },
    {
      "cell_type": "markdown",
      "metadata": {
        "id": "4zPWSKmi5ka2"
      },
      "source": [
        "Extract range of dates from bp data"
      ]
    },
    {
      "cell_type": "code",
      "execution_count": 3,
      "metadata": {
        "id": "44b9fOP7zwun"
      },
      "outputs": [],
      "source": [
        "'''\n",
        "the values in the systolic and diastolic columns are mixed up and erroneous i.e., systolic should be always greater than diastolic but due to manual entry\n",
        "some of the people entered it the other way. Moreover, some people have entered wrong data like 8.0 for diastolic etc.\n",
        "The code below will swap the diastolic and systolic values where required and remove the entries which falls below the specified range\n",
        "'''\n",
        "def fix_sys_dias(bp):\n",
        "  print('unfiltered shape', bp.shape)\n",
        "\n",
        "  # Create a mask where diastolic is greater than systolic\n",
        "  mask = bp['diastolic'] < bp['systolic']\n",
        "\n",
        "  # Use the mask to swap the values\n",
        "  bp.loc[mask, ['systolic', 'diastolic']] = bp.loc[mask, ['diastolic', 'systolic']].values\n",
        "  print('number of sys-dias swaps', mask.sum())\n",
        "\n",
        "  bp = bp[(bp['systolic'] > 60) | (bp['systolic'] < 260)]     # systolic is out of range\n",
        "  print('systolic filter', bp.shape)\n",
        "  bp = bp[(bp['diastolic'] > 20) | (bp['diastolic'] < 150)]     # diastolic is out of range\n",
        "  print('diastolic filter', bp.shape)\n",
        "\n",
        "  return bp"
      ]
    },
    {
      "cell_type": "code",
      "execution_count": 4,
      "metadata": {
        "colab": {
          "base_uri": "https://localhost:8080/"
        },
        "id": "HJaJdI957Q3p",
        "outputId": "57a55d19-be6e-415f-dbc8-b5e9810654ae"
      },
      "outputs": [
        {
          "name": "stdout",
          "output_type": "stream",
          "text": [
            "unfiltered shape (10772, 24)\n",
            "number of sys-dias swaps 157\n",
            "systolic filter (10771, 24)\n",
            "diastolic filter (10771, 24)\n",
            "                             healthCode        date  diastolic  systolic\n",
            "0  9f936943-acd6-4e44-9d67-21de6cc206ae  2015-03-10        108      77.0\n",
            "1  9f936943-acd6-4e44-9d67-21de6cc206ae  2015-03-12        102      73.0\n",
            "2  54cde2ca-b0d5-4fe4-a58d-476fdb47b192  2015-03-16        160     130.0\n",
            "3  211e9177-22a7-485a-96ae-06b447da128a  2015-03-16        115      75.0\n",
            "4  abf07e97-af5c-4ca7-ba76-1458454e9020  2015-03-15        120      80.0\n",
            "<class 'pandas.core.frame.DataFrame'>\n",
            "min 2015-03-09\n",
            "max 2015-10-27\n"
          ]
        }
      ],
      "source": [
        "from datetime import timedelta\n",
        "import pandas as pd\n",
        "\n",
        "# Extracts range from BP data\n",
        "bp = pd.read_csv(path + 'bp.csv')\n",
        "bp['createdOn'] = bp['createdOn'] / 1000\n",
        "bp['createdOn'] = pd.to_datetime(bp['createdOn'], unit='s')\n",
        "bp['date'] = bp['createdOn'].dt.date\n",
        "bp = bp.rename(columns={'heartAgeDataSystolicBloodPressure': 'systolic', 'bloodPressureInstruction': 'diastolic'})\n",
        "bp = fix_sys_dias(bp)\n",
        "bp = bp[['healthCode', 'date', 'diastolic', 'systolic']]\n",
        "# bp = bp.fillna(0, inplace=True)\n",
        "print(bp.head())\n",
        "bp.fillna(0, inplace=True)\n",
        "print(type(bp))\n",
        "\n",
        "min_date = bp['date'].min() - timedelta(days=1)     # Add a padding day to min date to still consider prior day values\n",
        "max_date = bp['date'].max()\n",
        "\n",
        "print('min', min_date)\n",
        "print('max', max_date)"
      ]
    },
    {
      "cell_type": "markdown",
      "metadata": {
        "id": "3KcFl7SU54UL"
      },
      "source": [
        "Read HealthKit data"
      ]
    },
    {
      "cell_type": "code",
      "execution_count": 5,
      "metadata": {
        "colab": {
          "base_uri": "https://localhost:8080/"
        },
        "id": "xn_8YCj2515H",
        "outputId": "9ab129b2-5348-4ce4-d905-48b13c33c196"
      },
      "outputs": [
        {
          "name": "stdout",
          "output_type": "stream",
          "text": [
            "                                  healthCode        date  floors heart_rate  \\\n",
            "0       12a38046-1512-409a-b3a1-6046e97e650e  2015-06-22     0.0        0.0   \n",
            "1       12a38046-1512-409a-b3a1-6046e97e650e  2015-06-23     0.0        0.0   \n",
            "2       12a38046-1512-409a-b3a1-6046e97e650e  2015-06-21     0.0        0.0   \n",
            "3       5aa79529-ef84-45e1-a4f3-804aa871fc9a  2015-06-29     7.0    1.08333   \n",
            "4       2e9fb3e4-a83d-4d89-a607-f8fba4b0cc5c  2015-06-29     0.0        0.0   \n",
            "...                                      ...         ...     ...        ...   \n",
            "121465  1c33a77b-8da7-4a98-a6c6-cc4f91d031c5  2015-10-25     0.0        0.0   \n",
            "121466  1c33a77b-8da7-4a98-a6c6-cc4f91d031c5  2015-10-26     0.0        0.0   \n",
            "121467  ffe3d273-9da3-4cfa-b8a2-7c8e7c5e39c0  2015-10-27     0.0          0   \n",
            "121468  4ef2413e-48ae-41e1-9641-e1b47ab450a1  2015-10-27     2.0        0.0   \n",
            "121469  4ef2413e-48ae-41e1-9641-e1b47ab450a1  2015-10-26     2.0        0.0   \n",
            "\n",
            "          distance_walking  diastolic  systolic    steps  distance_cycling  \\\n",
            "0             22967.072076        0.0       0.0      0.0               0.0   \n",
            "1              4552.610159        0.0       0.0      0.0               0.0   \n",
            "2       330.88556800000003        0.0       0.0      0.0               0.0   \n",
            "3                1378.6232        0.0       0.0  14614.0               0.0   \n",
            "4                887.70708        0.0       0.0      0.0               0.0   \n",
            "...                    ...        ...       ...      ...               ...   \n",
            "121465  1856.6000000021882        0.0       0.0   2944.0               0.0   \n",
            "121466   4774.460000002522        0.0       0.0   8422.0               0.0   \n",
            "121467  1381.9706844703178        0.0       0.0      0.0               0.0   \n",
            "121468  1976.8699999991804        0.0       0.0  10566.0               0.0   \n",
            "121469   2219.500000006053        0.0       0.0   9453.0               0.0   \n",
            "\n",
            "        active_calories  \n",
            "0                   0.0  \n",
            "1                   0.0  \n",
            "2                   0.0  \n",
            "3                   0.0  \n",
            "4                   0.0  \n",
            "...                 ...  \n",
            "121465              0.0  \n",
            "121466              0.0  \n",
            "121467              0.0  \n",
            "121468              0.0  \n",
            "121469              0.0  \n",
            "\n",
            "[121324 rows x 10 columns]\n",
            "(41687, 2)\n"
          ]
        }
      ],
      "source": [
        "hk = pd.read_csv(path + 'healthkit.csv')\n",
        "hk = hk.rename(columns={'HKQuantityTypeIdentifierHeartRate': 'heart_rate', 'HKQuantityTypeIdentifierDistanceWalkingRunning': 'distance_walking',\n",
        "                   'HKQuantityTypeIdentifierBloodPressureDiastolic': 'diastolic', 'HKQuantityTypeIdentifierBloodPressureSystolic': 'systolic',\n",
        "                   'HKQuantityTypeIdentifierStepCount': 'steps', 'HKQuantityTypeIdentifierFlightsClimbed': 'floors',\n",
        "                   'HKQuantityTypeIdentifierActiveEnergyBurned': 'active_calories', 'HKQuantityTypeIdentifierDistanceCycling': 'distance_cycling'})\n",
        "hk['date'] = pd.to_datetime(hk['date'])\n",
        "hk['date'] = hk['date'].dt.date\n",
        "hk.fillna(0, inplace=True)\n",
        "\n",
        "\n",
        "hk = hk[(hk['date'] >= min_date) & (hk['date'] <= max_date)]\n",
        "print(hk)\n",
        "print(hk[['healthCode', 'date']].drop_duplicates().shape)"
      ]
    },
    {
      "cell_type": "markdown",
      "metadata": {
        "id": "F-fhQ92-ClGD"
      },
      "source": [
        "Read sleep data"
      ]
    },
    {
      "cell_type": "code",
      "execution_count": 6,
      "metadata": {
        "colab": {
          "base_uri": "https://localhost:8080/"
        },
        "id": "xhgIfTkrCsPF",
        "outputId": "3a444c73-508e-4b52-8849-dde478451618"
      },
      "outputs": [
        {
          "name": "stdout",
          "output_type": "stream",
          "text": [
            "                                healthCode        date  sleep_minutes  \\\n",
            "0     383e1eee-cf63-4c4c-9194-6100ff86e310  2015-06-28     411.000000   \n",
            "1     a7d67779-d082-4c74-9a06-f0544a37d378  2015-06-27      43.000000   \n",
            "2     a7d67779-d082-4c74-9a06-f0544a37d378  2015-06-28     184.000000   \n",
            "3     a7d67779-d082-4c74-9a06-f0544a37d378  2015-06-29     254.250000   \n",
            "4     6b771aad-7228-41ab-8628-39cf44e79f33  2015-06-12     228.000000   \n",
            "...                                    ...         ...            ...   \n",
            "8415  ca1152fe-05d5-498d-92ad-76771338b50e  2015-10-26     442.000000   \n",
            "8416  ac6e2546-9ec0-47d6-981e-44341f38446d  2015-10-26     277.366667   \n",
            "8417  a88f3758-0e43-43bd-bc6a-55a0780ec643  2015-10-25       5.000000   \n",
            "8418  a88f3758-0e43-43bd-bc6a-55a0780ec643  2015-10-26     231.000000   \n",
            "8419  a88f3758-0e43-43bd-bc6a-55a0780ec643  2015-10-27      11.000000   \n",
            "\n",
            "      awake_count  bed_time  \n",
            "0               1  01:42:00  \n",
            "1               1  02:08:31  \n",
            "2               1  22:34:12  \n",
            "3               9  05:17:45  \n",
            "4               1  05:14:00  \n",
            "...           ...       ...  \n",
            "8415            1  22:37:30  \n",
            "8416            1  23:07:03  \n",
            "8417            1  08:02:00  \n",
            "8418           12  04:24:00  \n",
            "8419            1  04:04:00  \n",
            "\n",
            "[8255 rows x 5 columns]\n"
          ]
        }
      ],
      "source": [
        "sleep = pd.read_csv(path + 'sleep.csv')\n",
        "sleep['date'] = pd.to_datetime(sleep['date'])\n",
        "sleep['date'] = sleep['date'].dt.date\n",
        "sleep.fillna(0, inplace=True)\n",
        "\n",
        "sleep = sleep[(sleep['date'] >= min_date) & (sleep['date'] <= max_date)]\n",
        "print(sleep)"
      ]
    },
    {
      "cell_type": "markdown",
      "metadata": {
        "id": "2GSN6bvwDXQt"
      },
      "source": [
        "Read workout data"
      ]
    },
    {
      "cell_type": "code",
      "execution_count": 7,
      "metadata": {
        "colab": {
          "base_uri": "https://localhost:8080/"
        },
        "id": "K7K1PZKuDaAQ",
        "outputId": "1de499c4-dfd9-450c-fb0f-150c28ba8f0e"
      },
      "outputs": [
        {
          "name": "stdout",
          "output_type": "stream",
          "text": [
            "            date                            healthCode  active_minutes  \\\n",
            "0     2014-06-02  8ebdc824-bd18-4290-a887-197a6b3ec4bc             0.0   \n",
            "1     2014-06-15  8ebdc824-bd18-4290-a887-197a6b3ec4bc             0.0   \n",
            "2     2014-06-17  8ebdc824-bd18-4290-a887-197a6b3ec4bc             0.0   \n",
            "3     2014-06-22  8ebdc824-bd18-4290-a887-197a6b3ec4bc             0.0   \n",
            "4     2014-06-26  8ebdc824-bd18-4290-a887-197a6b3ec4bc             0.0   \n",
            "...          ...                                   ...             ...   \n",
            "4317  2015-10-26  0a6eb7f8-c05d-4119-bfe0-f0e233d9f747             0.0   \n",
            "4318  2015-10-26  37633071-388d-4e6e-b6fc-29e37a70a936             0.0   \n",
            "4319  2015-10-26  56e4f3c3-2c3b-4f65-a598-2908a13353d0             0.0   \n",
            "4320  2015-10-26  a1461e7f-9a77-411f-9698-6dd6e5bed59b             0.0   \n",
            "4321  2015-10-26  a88f3758-0e43-43bd-bc6a-55a0780ec643             0.0   \n",
            "\n",
            "      wo_calories  \n",
            "0           0.000  \n",
            "1           0.000  \n",
            "2           0.000  \n",
            "3           0.000  \n",
            "4           0.000  \n",
            "...           ...  \n",
            "4317      757.975  \n",
            "4318        0.000  \n",
            "4319       55.789  \n",
            "4320     4697.000  \n",
            "4321      117.516  \n",
            "\n",
            "[4322 rows x 4 columns]\n"
          ]
        },
        {
          "name": "stderr",
          "output_type": "stream",
          "text": [
            "C:\\Users\\frana\\AppData\\Local\\Temp\\ipykernel_14848\\2078114409.py:11: FutureWarning: Setting an item of incompatible dtype is deprecated and will raise in a future error of pandas. Value '0' has dtype incompatible with datetime64[ns], please explicitly cast to a compatible dtype first.\n",
            "  wo.fillna(0, inplace=True)\n"
          ]
        }
      ],
      "source": [
        "wo = pd.read_csv(path + 'workout.csv')\n",
        "wo = wo.rename(columns={'energy.consumed': 'wo_calories'})\n",
        "\n",
        "wo['startTime'] = wo['startTime'].str.slice(0,19)   # Remove timezone information\n",
        "wo['startTime'] = pd.to_datetime(wo['startTime'], format='%Y-%m-%d %H:%M:%S', errors='coerce')\n",
        "wo['endTime'] = wo['endTime'].str.slice(0,19)   # Remove timezone information\n",
        "wo['endTime'] = pd.to_datetime(wo['endTime'], format='%Y-%m-%d %H:%M:%S%z', errors='coerce')\n",
        "\n",
        "# Calculate active time in minutes\n",
        "wo['active_minutes'] = (wo['endTime'] - wo['startTime']).dt.total_seconds() / 60\n",
        "wo.fillna(0, inplace=True)\n",
        "\n",
        "# Group by day\n",
        "wo['date'] = wo['startTime'].dt.date\n",
        "wo = wo.groupby(['date', 'healthCode']).agg({'active_minutes': 'sum', 'wo_calories': 'sum'}).reset_index()\n",
        "\n",
        "print(wo)"
      ]
    },
    {
      "cell_type": "markdown",
      "metadata": {
        "id": "usoIuQQEY1AC"
      },
      "source": [
        "**Augmentation**"
      ]
    },
    {
      "cell_type": "code",
      "execution_count": 8,
      "metadata": {
        "id": "endD2CFWYv3a"
      },
      "outputs": [],
      "source": [
        "def rolling_k_days(predictor, k):\n",
        "  '''\n",
        "  Populates missing values a time series table with the rolling average of the k prior days\n",
        "  (not all days will be populated, as any day for which there is no data in the previous k days will\n",
        "  remain as an empty value)\n",
        "  '''\n",
        "  predictor_df = predictor.copy()\n",
        "  print('original shape', predictor_df.shape)\n",
        "\n",
        "  # Resample to daily data (create an entry for everyday in the dates range, even if it has empty values)\n",
        "  predictor_df['date'] = pd.to_datetime(predictor_df['date'])\n",
        "  predictor_df.set_index('date', inplace=True)\n",
        "  # predictor_df = predictor_df.groupby('healthCode').resample('D').mean()\n",
        "  print('post sample shape', predictor_df.shape)\n",
        "\n",
        "  # Fill in missing days with NaNs\n",
        "  predictor_df = predictor_df.reset_index().set_index('date').groupby('healthCode', group_keys=False).apply(lambda x: x.asfreq('D')).reset_index()\n",
        "\n",
        "  predictor_df = predictor_df.sort_values(['healthCode', 'date'])\n",
        "\n",
        "  # Select variables (columns) to augment\n",
        "  cols_to_augment = predictor_df.columns[:2]  # augment all but the first two\n",
        "  cols_to_augment = ['floors']\n",
        "\n",
        "  # Calculate rolling average of k days to populate as many days with missing data as possible\n",
        "  predictor_df[cols_to_augment] = predictor_df.groupby('healthCode')[cols_to_augment].rolling(window=k, min_periods=1).mean().reset_index(0, drop=True)\n",
        "\n",
        "  return predictor_df"
      ]
    },
    {
      "cell_type": "code",
      "execution_count": 9,
      "metadata": {
        "id": "32jxot-3tiza"
      },
      "outputs": [],
      "source": [
        "def master_merge(predictor_df, bp):\n",
        "  # print('df 0 shape', bp.shape)\n",
        "  # print('df 1 shape', predictor_df.shape)\n",
        "  bp['date'] = pd.to_datetime(bp['date'])\n",
        "  predictor_df['date'] = predictor_df['date'].astype(bp['date'].dtypes)\n",
        "  predictor_df = predictor_df.drop_duplicates(subset=['healthCode', 'date'])\n",
        "  master_df = bp.merge(predictor_df, on=['healthCode', 'date'], how='inner')\n",
        "  # print('merged shape', master_df.shape)\n",
        "  return master_df"
      ]
    },
    {
      "cell_type": "code",
      "execution_count": 10,
      "metadata": {},
      "outputs": [],
      "source": [
        "def get_non_zero(df):\n",
        "    excluded_cols = ['healthCode', 'date', 'systolic', 'diastolic']\n",
        "    selected_cols = list(set(df.columns) - set(excluded_cols))\n",
        "    print('selected cols', selected_cols)\n",
        "    valid_values = df[selected_cols].ne(0).dropna().sum().sum()\n",
        "    print('Number of non-zero and not NaN values:', valid_values)\n",
        "    return valid_values"
      ]
    },
    {
      "cell_type": "code",
      "execution_count": 11,
      "metadata": {
        "colab": {
          "base_uri": "https://localhost:8080/",
          "height": 452
        },
        "id": "wiPGDe_FQBtm",
        "outputId": "c9081115-fdda-4ddd-e726-988b693ef8e8"
      },
      "outputs": [
        {
          "name": "stdout",
          "output_type": "stream",
          "text": [
            "hk shape (121324, 10)\n",
            "hk unique date-user combinations (41687, 2)\n",
            "sleep shape (8255, 5)\n",
            "merged shape (128649, 13)\n",
            "selected cols ['bed_time', 'distance_cycling', 'floors', 'sleep_minutes', 'active_calories', 'awake_count', 'distance_walking', 'heart_rate', 'steps']\n",
            "Number of non-zero and not NaN values: 766814\n",
            "hk_sleep shape (128649, 13)\n",
            "wo shape (4322, 4)\n",
            "predictor unique date-user combinations (46446, 2)\n",
            "merged shape (129811, 15)\n",
            "selected cols ['bed_time', 'distance_cycling', 'floors', 'wo_calories', 'sleep_minutes', 'active_calories', 'awake_count', 'distance_walking', 'active_minutes', 'heart_rate', 'steps']\n",
            "Number of non-zero and not NaN values: 1016133\n",
            "baseline (1001, 17) \n",
            "\n",
            "                             healthCode       date  diastolic_x  systolic_x  \\\n",
            "0  0d5a3219-bf97-4a33-b24c-73d9c1b72067 2015-03-16          120        84.0   \n",
            "1  cdda2358-6c36-4f1b-b362-d53fa4103882 2015-03-20          130        80.0   \n",
            "2  ecae2a86-b881-49db-8385-fcabdb799a77 2015-03-21          120        70.0   \n",
            "\n",
            "   floors heart_rate distance_walking  diastolic_y  systolic_y  steps  \\\n",
            "0     0.0        0.0           465.45          0.0         0.0    0.0   \n",
            "1     0.0        0.0          5738.62          0.0         0.0    0.0   \n",
            "2     7.0        0.0              0.0          0.0         0.0    0.0   \n",
            "\n",
            "   distance_cycling  active_calories  sleep_minutes  awake_count bed_time  \\\n",
            "0               0.0              0.0            0.0          0.0        0   \n",
            "1               0.0              0.0            0.0          0.0        0   \n",
            "2               0.0              0.0            0.0          0.0        0   \n",
            "\n",
            "   active_minutes  wo_calories  \n",
            "0             0.0          0.0  \n",
            "1             0.0          0.0  \n",
            "2             0.0          0.0  \n",
            "selected cols ['bed_time', 'heart_rate', 'distance_cycling', 'diastolic_y', 'diastolic_x', 'floors', 'wo_calories', 'systolic_x', 'active_calories', 'sleep_minutes', 'awake_count', 'distance_walking', 'active_minutes', 'systolic_y', 'steps']\n",
            "Number of non-zero and not NaN values: 5491\n"
          ]
        },
        {
          "data": {
            "text/plain": [
              "'\\nRun second RF with top N most important features\\n'"
            ]
          },
          "execution_count": 11,
          "metadata": {},
          "output_type": "execute_result"
        }
      ],
      "source": [
        "from ast import Not\n",
        "# Merge healthkit_df with sleep_df\n",
        "print('hk shape', hk.shape)\n",
        "print('hk unique date-user combinations', hk[['healthCode', 'date']].drop_duplicates().shape)\n",
        "print('sleep shape', sleep.shape)\n",
        "predictor_df = hk.merge(sleep, on=['healthCode', 'date'], how='outer')\n",
        "print('merged shape', predictor_df.shape)\n",
        "get_non_zero(predictor_df)\n",
        "\n",
        "\n",
        "\n",
        "# Merge workout_df with merged (healthkit_df, sleep_df) --> predictor_df\n",
        "print('hk_sleep shape', predictor_df.shape)\n",
        "print('wo shape', wo.shape)\n",
        "predictor_df = predictor_df.merge(wo, on=['healthCode', 'date'], how='outer')\n",
        "# print number of unique date and user combinations in predictor\n",
        "print('predictor unique date-user combinations', predictor_df[['healthCode', 'date']].drop_duplicates().shape)\n",
        "\n",
        "print('merged shape', predictor_df.shape)\n",
        "get_non_zero(predictor_df)\n",
        "\n",
        "\n",
        "\n",
        "\n",
        "# AUGMENT - predictor_df (K-rolling avg, and knn)\n",
        "# print('AUGMENTATION')\n",
        "k = 10\n",
        "# print('df 0 shape', predictor_df.shape)\n",
        "# augmented_df = rolling_k_days(predictor_df, k)\n",
        "# print('augmented unique date-user combinations', augmented_df[['healthCode', 'date']].drop_duplicates().shape)\n",
        "# print('augmented shape', augmented_df.shape, '\\n')\n",
        "\n",
        "\n",
        "# MASTER MERGE - Merge with bp_df\n",
        "# print('MASTER MERGE - baseline')\n",
        "baseline = master_merge(predictor_df, bp)\n",
        "baseline.fillna(0, inplace=True)\n",
        "print('baseline', baseline.shape, '\\n')\n",
        "print(baseline.head(3))\n",
        "get_non_zero(baseline)\n",
        "# print('baseline', baseline[baseline['sleep_minutes'].notna()].shape, '\\n')\n",
        "\n",
        "# print('MASTER MERGE - augmented')\n",
        "# augmented = master_merge(augmented_df, bp)\n",
        "# print('augmented', augmented[augmented['sleep_minutes'].notna()].shape)\n",
        "\n",
        "\n",
        "\n",
        "\n",
        "\n",
        "\n",
        "\n",
        "\n",
        "# ADD HISTORICAL BP - Add BP historical variable to master df (1 period, 2 periods, 3 periods)\n",
        "'''\n",
        "Here is where we list the historical BP values for each row in master_df:\n",
        "select a period of k days. If k is more than 1, aggregate within the period via averaging\n",
        "then a number of periods from [1, 2, 3]\n",
        "periods should not overlap with each other\n",
        "'''\n",
        "\n",
        "\n",
        "\n",
        "# RUN RF - Implement RF on master_df with: 1) no agumentation, 2) k-roll agumentation, 3) knn_augmentation\n",
        "'''\n",
        "Implement one RF first\n",
        "'''\n",
        "\n",
        "\n",
        "'''\n",
        "Implement same RF with bootstraping\n",
        "'''\n",
        "\n",
        "\n",
        "'''\n",
        "Extract feature importances and select top N most important features\n",
        "'''\n",
        "\n",
        "\n",
        "'''\n",
        "Run second RF with top N most important features\n",
        "'''\n",
        "\n",
        "\n"
      ]
    }
  ],
  "metadata": {
    "colab": {
      "include_colab_link": true,
      "provenance": []
    },
    "kernelspec": {
      "display_name": "Python 3",
      "name": "python3"
    },
    "language_info": {
      "codemirror_mode": {
        "name": "ipython",
        "version": 3
      },
      "file_extension": ".py",
      "mimetype": "text/x-python",
      "name": "python",
      "nbconvert_exporter": "python",
      "pygments_lexer": "ipython3",
      "version": "3.11.7"
    }
  },
  "nbformat": 4,
  "nbformat_minor": 0
}
